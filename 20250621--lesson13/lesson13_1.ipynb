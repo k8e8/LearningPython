{
 "cells": [
  {
   "cell_type": "code",
   "execution_count": null,
   "id": "a5785692",
   "metadata": {},
   "outputs": [],
   "source": [
    "https://www.perplexity.ai/search/045ecda7-23bf-4d76-9155-fcb886e2425e"
   ]
  },
  {
   "cell_type": "code",
   "execution_count": 6,
   "id": "8bbfa8e8",
   "metadata": {},
   "outputs": [
    {
     "data": {
      "text/plain": [
       "array([[0.97473696, 0.55904036, 0.5838587 , 0.61701874],\n",
       "       [0.18680083, 0.19850595, 0.35241328, 0.48301734],\n",
       "       [0.46512125, 0.0610068 , 0.78142941, 0.31916999]])"
      ]
     },
     "execution_count": 6,
     "metadata": {},
     "output_type": "execute_result"
    }
   ],
   "source": [
    "import numpy as np\n",
    "np.random.random()\n",
    "np.random.random(3)\n",
    "np.random.random(size=3)\n",
    "np.random.random((3, 4))\n",
    "np.random.random(size=(3,4))"
   ]
  },
  {
   "cell_type": "code",
   "execution_count": 9,
   "id": "26023880",
   "metadata": {},
   "outputs": [
    {
     "data": {
      "text/plain": [
       "dtype('float64')"
      ]
     },
     "execution_count": 9,
     "metadata": {},
     "output_type": "execute_result"
    }
   ],
   "source": [
    "from numpy.random import normal \n",
    "normal_value=normal(size=(3,4))\n",
    "#ndarray常用的實體屬性\n",
    "type(normal_value)\n",
    "normal_value.ndim\n",
    "normal_value.size\n",
    "normal_value.shape\n",
    "normal_value.dtype"
   ]
  },
  {
   "cell_type": "code",
   "execution_count": 12,
   "id": "8ac060f5",
   "metadata": {},
   "outputs": [
    {
     "data": {
      "text/plain": [
       "array([[-7.44350085, -8.07263605, -5.65085872, -1.19348697],\n",
       "       [-3.17443319, -9.52320637, -2.362156  ,  2.02787861],\n",
       "       [ 4.78009282, -3.49684081,  1.21451412,  3.14513903]])"
      ]
     },
     "execution_count": 12,
     "metadata": {},
     "output_type": "execute_result"
    }
   ],
   "source": [
    "#ndarray,陣列運算\n",
    "normal_value * 5"
   ]
  },
  {
   "cell_type": "code",
   "execution_count": 11,
   "id": "b1e27601",
   "metadata": {},
   "outputs": [
    {
     "data": {
      "text/plain": [
       "array([-4.47209652, -2.60638339,  1.12858103])"
      ]
     },
     "execution_count": 11,
     "metadata": {},
     "output_type": "execute_result"
    }
   ],
   "source": [
    "#ndarray,的統計\n",
    "normal_value.sum()\n",
    "normal_value.sum(axis=0)\n",
    "normal_value.sum(axis=1)"
   ]
  },
  {
   "cell_type": "code",
   "execution_count": 13,
   "id": "12c04f69",
   "metadata": {},
   "outputs": [
    {
     "name": "stdout",
     "output_type": "stream",
     "text": [
      "0.4907894760852717\n"
     ]
    }
   ],
   "source": [
    "import numpy as np\n",
    "x = np.random.random()\n",
    "print(x)"
   ]
  }
 ],
 "metadata": {
  "kernelspec": {
   "display_name": "0621",
   "language": "python",
   "name": "python3"
  },
  "language_info": {
   "codemirror_mode": {
    "name": "ipython",
    "version": 3
   },
   "file_extension": ".py",
   "mimetype": "text/x-python",
   "name": "python",
   "nbconvert_exporter": "python",
   "pygments_lexer": "ipython3",
   "version": "3.10.18"
  }
 },
 "nbformat": 4,
 "nbformat_minor": 5
}
