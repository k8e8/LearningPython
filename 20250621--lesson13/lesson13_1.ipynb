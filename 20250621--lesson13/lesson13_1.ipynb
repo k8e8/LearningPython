{
 "cells": [
  {
   "cell_type": "code",
   "execution_count": null,
   "id": "a5785692",
   "metadata": {},
   "outputs": [],
   "source": [
    "https://www.perplexity.ai/search/045ecda7-23bf-4d76-9155-fcb886e2425e"
   ]
  },
  {
   "cell_type": "code",
   "execution_count": 6,
   "id": "8bbfa8e8",
   "metadata": {},
   "outputs": [
    {
     "data": {
      "text/plain": [
       "array([[0.97473696, 0.55904036, 0.5838587 , 0.61701874],\n",
       "       [0.18680083, 0.19850595, 0.35241328, 0.48301734],\n",
       "       [0.46512125, 0.0610068 , 0.78142941, 0.31916999]])"
      ]
     },
     "execution_count": 6,
     "metadata": {},
     "output_type": "execute_result"
    }
   ],
   "source": [
    "import numpy as np\n",
    "np.random.random()\n",
    "np.random.random(3)\n",
    "np.random.random(size=3)\n",
    "np.random.random((3, 4))\n",
    "np.random.random(size=(3,4))"
   ]
  },
  {
   "cell_type": "code",
   "execution_count": 9,
   "id": "26023880",
   "metadata": {},
   "outputs": [
    {
     "data": {
      "text/plain": [
       "dtype('float64')"
      ]
     },
     "execution_count": 9,
     "metadata": {},
     "output_type": "execute_result"
    }
   ],
   "source": [
    "from numpy.random import normal \n",
    "normal_value=normal(size=(3,4))\n",
    "#ndarray常用的實體屬性\n",
    "type(normal_value)\n",
    "normal_value.ndim\n",
    "normal_value.size\n",
    "normal_value.shape\n",
    "normal_value.dtype"
   ]
  },
  {
   "cell_type": "code",
   "execution_count": 10,
   "id": "8ac060f5",
   "metadata": {},
   "outputs": [
    {
     "data": {
      "text/plain": [
       "array([[-14.88700171, -16.14527211, -11.30171744,  -2.38697394],\n",
       "       [ -6.34886638, -19.04641273,  -4.724312  ,   4.05575721],\n",
       "       [  9.56018564,  -6.99368162,   2.42902825,   6.29027805]])"
      ]
     },
     "execution_count": 10,
     "metadata": {},
     "output_type": "execute_result"
    }
   ],
   "source": [
    "#ndarray,陣列運算\n",
    "normal_value * 10"
   ]
  },
  {
   "cell_type": "code",
   "execution_count": 11,
   "id": "b1e27601",
   "metadata": {},
   "outputs": [
    {
     "data": {
      "text/plain": [
       "array([-4.47209652, -2.60638339,  1.12858103])"
      ]
     },
     "execution_count": 11,
     "metadata": {},
     "output_type": "execute_result"
    }
   ],
   "source": [
    "#ndarray,的統計\n",
    "normal_value.sum()\n",
    "normal_value.sum(axis=0)\n",
    "normal_value.sum(axis=1)"
   ]
  }
 ],
 "metadata": {
  "kernelspec": {
   "display_name": "0621",
   "language": "python",
   "name": "python3"
  },
  "language_info": {
   "codemirror_mode": {
    "name": "ipython",
    "version": 3
   },
   "file_extension": ".py",
   "mimetype": "text/x-python",
   "name": "python",
   "nbconvert_exporter": "python",
   "pygments_lexer": "ipython3",
   "version": "3.10.18"
  }
 },
 "nbformat": 4,
 "nbformat_minor": 5
}
