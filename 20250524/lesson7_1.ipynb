{
 "cells": [
  {
   "cell_type": "code",
   "execution_count": 4,
   "id": "a6c9e11a",
   "metadata": {},
   "outputs": [
    {
     "name": "stdout",
     "output_type": "stream",
     "text": [
      "18.72417355371901\n",
      "體重正常\n"
     ]
    }
   ],
   "source": [
    "def caculate_bmi(height:int,weight:int)->float:\n",
    "    return weight / (height / 100) ** 2\n",
    "\n",
    "def get_state(bmi:float)->str:\n",
    "    if bmi <18.5:\n",
    "        return(\"體重過輕\")\n",
    "    elif bmi < 24:\n",
    "        return(\"體重正常\")\n",
    "    elif bmi < 27:\n",
    "        return(\"過重\")\n",
    "    elif bmi < 30:\n",
    "        return(\"輕度肥胖\")\n",
    "    elif bmi < 35:\n",
    "        return(\"中度肥胖\")\n",
    "    else :\n",
    "        return(\"重度肥胖\")\n",
    "\n",
    "height:int = int(input(\"請輸入身高(cm):\"))\n",
    "weight:int = int(input(\"請輸入體重(kg):\"))\n",
    "\n",
    "bmi = caculate_bmi(height, weight)\n",
    "print(bmi)\n",
    "print(get_state(bmi))\n"
   ]
  },
  {
   "cell_type": "code",
   "execution_count": 6,
   "id": "9d8e627b",
   "metadata": {},
   "outputs": [
    {
     "data": {
      "text/plain": [
       "{'__name__': '__main__',\n",
       " '__doc__': 'Automatically created module for IPython interactive environment',\n",
       " '__package__': None,\n",
       " '__loader__': None,\n",
       " '__spec__': None,\n",
       " '__builtin__': <module 'builtins' (built-in)>,\n",
       " '__builtins__': <module 'builtins' (built-in)>,\n",
       " '_ih': ['',\n",
       "  'def caculate_bmi(h:int,w:int)->float:\\n    return w / (h / 100) ** 2\\n\\nheight:int = int(input(\"請輸入身高(cm):\"))\\nweight:int = int(input(\"請輸入體重(kg):\"))\\n\\nbmi = caculate_bmi(height, weight)\\nprint(bmi)',\n",
       "  'def caculate_bmi(h:int,w:int)->float:\\n    return w / (h / 100) ** 2\\n\\nheight:int = int(input(\"請輸入身高(cm):\"))\\nweight:int = int(input(\"請輸入體重(kg):\"))\\n\\nbmi = caculate_bmi(height, weight)\\nprint(bmi)',\n",
       "  'def caculate_bmi(h:int,w:int)->float:\\n    return w / (h / 100) ** 2\\n\\ndef get_state(b:float)->str:\\n    if b <18.5:\\n        return(\"體重過輕\")\\n    elif b < 24:\\n        return(\"體重正常\")\\n    elif b < 27:\\n        return(\"過重\")\\n    elif b < 30:\\n        return(\"輕度肥胖\")\\n    elif b < 35:\\n        return(\"中度肥胖\")\\n    else :\\n        return(\"重度肥胖\")\\n\\nheight:int = int(input(\"請輸入身高(cm):\"))\\nweight:int = int(input(\"請輸入體重(kg):\"))\\n\\nbmi = caculate_bmi(height, weight)\\nprint(bmi)\\nprint(get_state(bmi))',\n",
       "  'def caculate_bmi(height:int,weight:int)->float:\\n    return weight / (height / 100) ** 2\\n\\ndef get_state(bmi:float)->str:\\n    if bmi <18.5:\\n        return(\"體重過輕\")\\n    elif bmi < 24:\\n        return(\"體重正常\")\\n    elif bmi < 27:\\n        return(\"過重\")\\n    elif bmi < 30:\\n        return(\"輕度肥胖\")\\n    elif bmi < 35:\\n        return(\"中度肥胖\")\\n    else :\\n        return(\"重度肥胖\")\\n\\nheight:int = int(input(\"請輸入身高(cm):\"))\\nweight:int = int(input(\"請輸入體重(kg):\"))\\n\\nbmi = caculate_bmi(height, weight)\\nprint(bmi)\\nprint(get_state(bmi))',\n",
       "  'var()',\n",
       "  'vars()'],\n",
       " '_oh': {},\n",
       " '_dh': [WindowsPath('c:/Users/User/Documents/GITHUB/LearningPython/20250524')],\n",
       " 'In': ['',\n",
       "  'def caculate_bmi(h:int,w:int)->float:\\n    return w / (h / 100) ** 2\\n\\nheight:int = int(input(\"請輸入身高(cm):\"))\\nweight:int = int(input(\"請輸入體重(kg):\"))\\n\\nbmi = caculate_bmi(height, weight)\\nprint(bmi)',\n",
       "  'def caculate_bmi(h:int,w:int)->float:\\n    return w / (h / 100) ** 2\\n\\nheight:int = int(input(\"請輸入身高(cm):\"))\\nweight:int = int(input(\"請輸入體重(kg):\"))\\n\\nbmi = caculate_bmi(height, weight)\\nprint(bmi)',\n",
       "  'def caculate_bmi(h:int,w:int)->float:\\n    return w / (h / 100) ** 2\\n\\ndef get_state(b:float)->str:\\n    if b <18.5:\\n        return(\"體重過輕\")\\n    elif b < 24:\\n        return(\"體重正常\")\\n    elif b < 27:\\n        return(\"過重\")\\n    elif b < 30:\\n        return(\"輕度肥胖\")\\n    elif b < 35:\\n        return(\"中度肥胖\")\\n    else :\\n        return(\"重度肥胖\")\\n\\nheight:int = int(input(\"請輸入身高(cm):\"))\\nweight:int = int(input(\"請輸入體重(kg):\"))\\n\\nbmi = caculate_bmi(height, weight)\\nprint(bmi)\\nprint(get_state(bmi))',\n",
       "  'def caculate_bmi(height:int,weight:int)->float:\\n    return weight / (height / 100) ** 2\\n\\ndef get_state(bmi:float)->str:\\n    if bmi <18.5:\\n        return(\"體重過輕\")\\n    elif bmi < 24:\\n        return(\"體重正常\")\\n    elif bmi < 27:\\n        return(\"過重\")\\n    elif bmi < 30:\\n        return(\"輕度肥胖\")\\n    elif bmi < 35:\\n        return(\"中度肥胖\")\\n    else :\\n        return(\"重度肥胖\")\\n\\nheight:int = int(input(\"請輸入身高(cm):\"))\\nweight:int = int(input(\"請輸入體重(kg):\"))\\n\\nbmi = caculate_bmi(height, weight)\\nprint(bmi)\\nprint(get_state(bmi))',\n",
       "  'var()',\n",
       "  'vars()'],\n",
       " 'Out': {},\n",
       " 'get_ipython': <bound method InteractiveShell.get_ipython of <ipykernel.zmqshell.ZMQInteractiveShell object at 0x0000027786567670>>,\n",
       " 'exit': <IPython.core.autocall.ZMQExitAutocall at 0x277865ac0a0>,\n",
       " 'quit': <IPython.core.autocall.ZMQExitAutocall at 0x277865ac0a0>,\n",
       " 'open': <function io.open(file, mode='r', buffering=-1, encoding=None, errors=None, newline=None, closefd=True, opener=None)>,\n",
       " '_': '',\n",
       " '__': '',\n",
       " '___': '',\n",
       " '__vsc_ipynb_file__': 'c:\\\\Users\\\\User\\\\Documents\\\\GITHUB\\\\LearningPython\\\\20250524\\\\lesson7_1.ipynb',\n",
       " '_i': 'var()',\n",
       " '_ii': 'def caculate_bmi(height:int,weight:int)->float:\\n    return weight / (height / 100) ** 2\\n\\ndef get_state(bmi:float)->str:\\n    if bmi <18.5:\\n        return(\"體重過輕\")\\n    elif bmi < 24:\\n        return(\"體重正常\")\\n    elif bmi < 27:\\n        return(\"過重\")\\n    elif bmi < 30:\\n        return(\"輕度肥胖\")\\n    elif bmi < 35:\\n        return(\"中度肥胖\")\\n    else :\\n        return(\"重度肥胖\")\\n\\nheight:int = int(input(\"請輸入身高(cm):\"))\\nweight:int = int(input(\"請輸入體重(kg):\"))\\n\\nbmi = caculate_bmi(height, weight)\\nprint(bmi)\\nprint(get_state(bmi))',\n",
       " '_iii': 'def caculate_bmi(h:int,w:int)->float:\\n    return w / (h / 100) ** 2\\n\\ndef get_state(b:float)->str:\\n    if b <18.5:\\n        return(\"體重過輕\")\\n    elif b < 24:\\n        return(\"體重正常\")\\n    elif b < 27:\\n        return(\"過重\")\\n    elif b < 30:\\n        return(\"輕度肥胖\")\\n    elif b < 35:\\n        return(\"中度肥胖\")\\n    else :\\n        return(\"重度肥胖\")\\n\\nheight:int = int(input(\"請輸入身高(cm):\"))\\nweight:int = int(input(\"請輸入體重(kg):\"))\\n\\nbmi = caculate_bmi(height, weight)\\nprint(bmi)\\nprint(get_state(bmi))',\n",
       " '_i1': 'def caculate_bmi(h:int,w:int)->float:\\n    return w / (h / 100) ** 2\\n\\nheight:int = int(input(\"請輸入身高(cm):\"))\\nweight:int = int(input(\"請輸入體重(kg):\"))\\n\\nbmi = caculate_bmi(height, weight)\\nprint(bmi)',\n",
       " 'caculate_bmi': <function __main__.caculate_bmi(height: int, weight: int) -> float>,\n",
       " '__annotations__': {'height': int, 'weight': int},\n",
       " 'height': 176,\n",
       " 'weight': 58,\n",
       " 'bmi': 18.72417355371901,\n",
       " '_i2': 'def caculate_bmi(h:int,w:int)->float:\\n    return w / (h / 100) ** 2\\n\\nheight:int = int(input(\"請輸入身高(cm):\"))\\nweight:int = int(input(\"請輸入體重(kg):\"))\\n\\nbmi = caculate_bmi(height, weight)\\nprint(bmi)',\n",
       " '_i3': 'def caculate_bmi(h:int,w:int)->float:\\n    return w / (h / 100) ** 2\\n\\ndef get_state(b:float)->str:\\n    if b <18.5:\\n        return(\"體重過輕\")\\n    elif b < 24:\\n        return(\"體重正常\")\\n    elif b < 27:\\n        return(\"過重\")\\n    elif b < 30:\\n        return(\"輕度肥胖\")\\n    elif b < 35:\\n        return(\"中度肥胖\")\\n    else :\\n        return(\"重度肥胖\")\\n\\nheight:int = int(input(\"請輸入身高(cm):\"))\\nweight:int = int(input(\"請輸入體重(kg):\"))\\n\\nbmi = caculate_bmi(height, weight)\\nprint(bmi)\\nprint(get_state(bmi))',\n",
       " 'get_state': <function __main__.get_state(bmi: float) -> str>,\n",
       " '_i4': 'def caculate_bmi(height:int,weight:int)->float:\\n    return weight / (height / 100) ** 2\\n\\ndef get_state(bmi:float)->str:\\n    if bmi <18.5:\\n        return(\"體重過輕\")\\n    elif bmi < 24:\\n        return(\"體重正常\")\\n    elif bmi < 27:\\n        return(\"過重\")\\n    elif bmi < 30:\\n        return(\"輕度肥胖\")\\n    elif bmi < 35:\\n        return(\"中度肥胖\")\\n    else :\\n        return(\"重度肥胖\")\\n\\nheight:int = int(input(\"請輸入身高(cm):\"))\\nweight:int = int(input(\"請輸入體重(kg):\"))\\n\\nbmi = caculate_bmi(height, weight)\\nprint(bmi)\\nprint(get_state(bmi))',\n",
       " '_i5': 'var()',\n",
       " '_i6': 'vars()'}"
      ]
     },
     "execution_count": 6,
     "metadata": {},
     "output_type": "execute_result"
    }
   ],
   "source": [
    "vars()"
   ]
  }
 ],
 "metadata": {
  "kernelspec": {
   "display_name": "0524",
   "language": "python",
   "name": "python3"
  },
  "language_info": {
   "codemirror_mode": {
    "name": "ipython",
    "version": 3
   },
   "file_extension": ".py",
   "mimetype": "text/x-python",
   "name": "python",
   "nbconvert_exporter": "python",
   "pygments_lexer": "ipython3",
   "version": "3.10.16"
  }
 },
 "nbformat": 4,
 "nbformat_minor": 5
}
