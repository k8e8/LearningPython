{
 "cells": [
  {
   "cell_type": "markdown",
   "id": "7dd7f357",
   "metadata": {},
   "source": [
    "https://www.perplexity.ai/search/216f82f2-9e19-4f29-bb0e-bdbfb083b51b"
   ]
  },
  {
   "cell_type": "code",
   "execution_count": null,
   "id": "da30c12f",
   "metadata": {},
   "outputs": [],
   "source": [
    "# 使用 with 語法開啟檔案，確保讀取完後自動關閉檔案\n",
    "with open(\"names.txt\", \"r\", encoding=\"utf-8\") as f:\n",
    "    content = f.read()  # 一次讀取全部內容，回傳字串\n",
    "    print(content)"
   ]
  },
  {
   "cell_type": "code",
   "execution_count": null,
   "id": "f390c4a3",
   "metadata": {},
   "outputs": [],
   "source": [
    "file= open(\"names.txt\", encoding=\"utf-8\")\n",
    "print(file.read())\n",
    "file.close()"
   ]
  },
  {
   "cell_type": "code",
   "execution_count": 6,
   "id": "9f3435ce",
   "metadata": {},
   "outputs": [
    {
     "name": "stdout",
     "output_type": "stream",
     "text": [
      "299\n"
     ]
    }
   ],
   "source": [
    "file = open(\"names.txt\",encoding=\"utf-8\")\n",
    "names:list = file.readlines()\n",
    "print(len(names))\n",
    "file.close()"
   ]
  },
  {
   "cell_type": "code",
   "execution_count": null,
   "id": "02ec5d6a",
   "metadata": {},
   "outputs": [],
   "source": [
    "for name in names:\n",
    "    print(name)"
   ]
  }
 ],
 "metadata": {
  "kernelspec": {
   "display_name": "0607",
   "language": "python",
   "name": "python3"
  },
  "language_info": {
   "codemirror_mode": {
    "name": "ipython",
    "version": 3
   },
   "file_extension": ".py",
   "mimetype": "text/x-python",
   "name": "python",
   "nbconvert_exporter": "python",
   "pygments_lexer": "ipython3",
   "version": "3.10.18"
  }
 },
 "nbformat": 4,
 "nbformat_minor": 5
}
