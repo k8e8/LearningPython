{
 "cells": [
  {
   "cell_type": "code",
   "execution_count": 2,
   "id": "0363ffff",
   "metadata": {},
   "outputs": [
    {
     "name": "stdout",
     "output_type": "stream",
     "text": [
      "   姓名  年齡 性別  數學  英文   自然\n",
      "0  小明  20  男  88  92   85\n",
      "1  小華  21  男  75  78   80\n",
      "2  小美  19  女  90  85   88\n",
      "3  阿成  20  男  60  65   70\n",
      "4  小英  18  女  95  98  100\n"
     ]
    }
   ],
   "source": [
    "import pandas as pd\n",
    "\n",
    "df = pd.read_csv('st.csv')\n",
    "print(df.head())\n"
   ]
  },
  {
   "cell_type": "code",
   "execution_count": 7,
   "id": "f4e83d55",
   "metadata": {},
   "outputs": [
    {
     "name": "stdout",
     "output_type": "stream",
     "text": [
      "   姓名  年齡  成績\n",
      "0  小明  20  88\n",
      "1  小華  21  92\n",
      "2  小美  19  85\n"
     ]
    }
   ],
   "source": [
    "import pandas as pd\n",
    "\n",
    "# 建立一個簡單的 DataFrame\n",
    "data = {\n",
    "    '姓名': ['小明', '小華', '小美'],\n",
    "    '年齡': [20, 21, 19],\n",
    "    '成績': [88, 92, 85]\n",
    "}\n",
    "\n",
    "df = pd.DataFrame(data)\n",
    "\n",
    "print(df)\n"
   ]
  },
  {
   "cell_type": "code",
   "execution_count": 9,
   "id": "621df093",
   "metadata": {},
   "outputs": [
    {
     "name": "stdout",
     "output_type": "stream",
     "text": [
      "0    小明\n",
      "1    小華\n",
      "2    小美\n",
      "Name: 姓名, dtype: object\n"
     ]
    }
   ],
   "source": [
    "import pandas as pd\n",
    "\n",
    "# 建立資料\n",
    "data = {\n",
    "    '姓名': ['小明', '小華', '小美'],\n",
    "    '年齡': [20, 21, 19],\n",
    "    '成績': [88, 92, 85]\n",
    "}\n",
    "\n",
    "# 建立 DataFrame\n",
    "df = pd.DataFrame(data)\n",
    "\n",
    "# 選取全部的姓名\n",
    "print(df['姓名'])\n"
   ]
  },
  {
   "cell_type": "markdown",
   "id": "8a68beaf",
   "metadata": {},
   "source": [
    "#| `0`, `1`, `2`    | 是**索引（index）**，代表每一筆資料的編號。類似 Excel 左邊的列數。        |\n",
    "#| `小明`, `小華`, `小美` | 是資料的實際內容。這裡是「姓名」欄位裡的值。                           |\n",
    "#| `Name: 姓名`       | 表示這個 Series 是從哪個欄位來的（這裡是 `姓名` 欄）。                |\n",
    "#| `dtype: object`  | 表示資料的型別（data type）。這裡是 `object`，代表是字串（str）或混合型別。 |\n"
   ]
  },
  {
   "cell_type": "code",
   "execution_count": 8,
   "id": "f6eb8d06",
   "metadata": {},
   "outputs": [
    {
     "name": "stdout",
     "output_type": "stream",
     "text": [
      "['小明', '小華', '小美']\n"
     ]
    }
   ],
   "source": [
    "import pandas as pd\n",
    "\n",
    "# 建立一個簡單的 DataFrame\n",
    "data = {\n",
    "    '姓名': ['小明', '小華', '小美'],\n",
    "    '年齡': [20, 21, 19],\n",
    "    '成績': [88, 92, 85]\n",
    "}\n",
    "\n",
    "df = pd.DataFrame(data)\n",
    "\n",
    "names = df['姓名'].tolist()\n",
    "print(names)"
   ]
  }
 ],
 "metadata": {
  "kernelspec": {
   "display_name": "practice0522",
   "language": "python",
   "name": "python3"
  },
  "language_info": {
   "codemirror_mode": {
    "name": "ipython",
    "version": 3
   },
   "file_extension": ".py",
   "mimetype": "text/x-python",
   "name": "python",
   "nbconvert_exporter": "python",
   "pygments_lexer": "ipython3",
   "version": "3.10.16"
  }
 },
 "nbformat": 4,
 "nbformat_minor": 5
}
