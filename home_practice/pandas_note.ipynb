{
 "cells": [
  {
   "cell_type": "code",
   "execution_count": null,
   "id": "2e31d27b",
   "metadata": {},
   "outputs": [],
   "source": [
    "import pandas as pd\n",
    "#匯入套件"
   ]
  },
  {
   "cell_type": "code",
   "execution_count": null,
   "id": "b909dad1",
   "metadata": {},
   "outputs": [],
   "source": [
    "data = {\n",
    "    '姓名': ['小明', '小華', '小美'],\n",
    "    '年齡': [20, 21, 19],\n",
    "    '成績': [88, 92, 85]\n",
    "}\n",
    "\n",
    "df = pd.DataFrame(data)\n",
    "print(df)\n",
    "#建立 DataFrame（資料表）"
   ]
  },
  {
   "cell_type": "code",
   "execution_count": null,
   "id": "49f486bf",
   "metadata": {},
   "outputs": [],
   "source": [
    "df.head()        # 顯示前5筆資料\n",
    "df.tail()        # 顯示最後5筆資料\n",
    "df.shape         # 資料表的形狀（列數, 欄數）\n",
    "df.columns       # 所有欄位名稱\n",
    "df.info()        # 資料型態與簡要資訊\n",
    "df.describe()    # 數值欄位的統計摘要\n"
   ]
  },
  {
   "cell_type": "code",
   "execution_count": null,
   "id": "a555f0eb",
   "metadata": {},
   "outputs": [],
   "source": [
    "df['姓名']             # 單一欄\n",
    "df[['姓名', '成績']]    # 多欄\n",
    "#選取資料"
   ]
  },
  {
   "cell_type": "code",
   "execution_count": null,
   "id": "86ef5fe0",
   "metadata": {},
   "outputs": [],
   "source": [
    "df.loc[0]             # 用 index 選第0列\n",
    "df.iloc[1:3]          # 用位置選第1到2列（不含第3）\n",
    "#選取資料"
   ]
  },
  {
   "cell_type": "code",
   "execution_count": null,
   "id": "8d26060c",
   "metadata": {},
   "outputs": [],
   "source": [
    "df[df['年齡'] > 20]\n",
    "df[(df['年齡'] > 19) & (df['成績'] > 85)]\n",
    "#篩選資料（條件查詢）"
   ]
  },
  {
   "cell_type": "code",
   "execution_count": null,
   "id": "eb47bb4a",
   "metadata": {},
   "outputs": [],
   "source": [
    "df['是否及格'] = df['成績'] >= 60     # 新增欄位\n",
    "df['年齡'] = df['年齡'] + 1          # 修改欄位\n",
    "df.drop('是否及格', axis=1, inplace=True)  # 刪除欄位\n",
    "#新增、修改、刪除欄位"
   ]
  },
  {
   "cell_type": "code",
   "execution_count": null,
   "id": "57bcc18d",
   "metadata": {},
   "outputs": [],
   "source": [
    "df.sort_values(by='成績', ascending=False)  # 根據成績降序排序\n",
    "排序#"
   ]
  },
  {
   "cell_type": "code",
   "execution_count": null,
   "id": "a47a445c",
   "metadata": {},
   "outputs": [],
   "source": [
    "# 讀取 CSV 或 Excel\n",
    "df = pd.read_csv('檔案路徑.csv')\n",
    "df = pd.read_excel('檔案路徑.xlsx')\n",
    "\n",
    "# 寫入 CSV 或 Excel\n",
    "df.to_csv('output.csv', index=False)\n",
    "df.to_excel('output.xlsx', index=False)\n",
    "#讀取/寫入檔案"
   ]
  },
  {
   "cell_type": "code",
   "execution_count": null,
   "id": "cbfb2ba9",
   "metadata": {},
   "outputs": [],
   "source": [
    "df.groupby('年齡')['成績'].mean()  # 根據年齡分組後取成績平均\n",
    "#分組統計（GroupBy）"
   ]
  },
  {
   "cell_type": "code",
   "execution_count": null,
   "id": "685cf9b9",
   "metadata": {},
   "outputs": [],
   "source": [
    "df.isnull()            # 檢查缺失值\n",
    "df.dropna()            # 刪除有缺失的列\n",
    "df.fillna(0)           # 將缺失值填入0\n",
    "#缺失值處理"
   ]
  }
 ],
 "metadata": {
  "kernelspec": {
   "display_name": "practice0522",
   "language": "python",
   "name": "python3"
  },
  "language_info": {
   "codemirror_mode": {
    "name": "ipython",
    "version": 3
   },
   "file_extension": ".py",
   "mimetype": "text/x-python",
   "name": "python",
   "nbconvert_exporter": "python",
   "pygments_lexer": "ipython3",
   "version": "3.10.16"
  }
 },
 "nbformat": 4,
 "nbformat_minor": 5
}
