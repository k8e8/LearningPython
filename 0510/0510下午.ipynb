{
  "nbformat": 4,
  "nbformat_minor": 0,
  "metadata": {
    "colab": {
      "provenance": [],
      "authorship_tag": "ABX9TyOv2O8h0VeDvbHQfzYp6y7v",
      "include_colab_link": true
    },
    "kernelspec": {
      "name": "python3",
      "display_name": "Python 3"
    },
    "language_info": {
      "name": "python"
    }
  },
  "cells": [
    {
      "cell_type": "markdown",
      "metadata": {
        "id": "view-in-github",
        "colab_type": "text"
      },
      "source": [
        "<a href=\"https://colab.research.google.com/github/k8e8/LearningPython/blob/main/0510/0510%E4%B8%8B%E5%8D%88.ipynb\" target=\"_parent\"><img src=\"https://colab.research.google.com/assets/colab-badge.svg\" alt=\"Open In Colab\"/></a>"
      ]
    },
    {
      "cell_type": "code",
      "execution_count": 2,
      "metadata": {
        "id": "S7IE27Garbvy",
        "colab": {
          "base_uri": "https://localhost:8080/"
        },
        "outputId": "ff5e92c1-7efb-4d2e-b70b-7dca5ebbe5d0"
      },
      "outputs": [
        {
          "output_type": "stream",
          "name": "stdout",
          "text": [
            "10\n",
            "21\n",
            "45\n",
            "76\n",
            "101\n"
          ]
        }
      ],
      "source": [
        "#list\n",
        "for i in [10,21,45,76,101]:\n",
        "  print(i)"
      ]
    },
    {
      "cell_type": "code",
      "source": [
        "#tuple\n",
        "for i in (10,23,66,71,92):\n",
        "  print(i)"
      ],
      "metadata": {
        "colab": {
          "base_uri": "https://localhost:8080/"
        },
        "id": "6mbQhHSZ3neS",
        "outputId": "f93d8ab4-6f4c-4040-9aa2-6559777ae64a"
      },
      "execution_count": 3,
      "outputs": [
        {
          "output_type": "stream",
          "name": "stdout",
          "text": [
            "10\n",
            "23\n",
            "66\n",
            "71\n",
            "92\n"
          ]
        }
      ]
    },
    {
      "cell_type": "code",
      "source": [
        "tall={\"Ken\":174,\"Anna\":165,\"Joe\":170}\n",
        "tall[\"Ken\"]"
      ],
      "metadata": {
        "colab": {
          "base_uri": "https://localhost:8080/"
        },
        "id": "IhoTPXgG39qC",
        "outputId": "143ed5bf-bb68-4092-a6e6-71048f71de69"
      },
      "execution_count": 5,
      "outputs": [
        {
          "output_type": "execute_result",
          "data": {
            "text/plain": [
              "174"
            ]
          },
          "metadata": {},
          "execution_count": 5
        }
      ]
    },
    {
      "cell_type": "code",
      "source": [
        "stu1={\"name\":\"Ken\",\"math\":51,\"chinese\":78,\"english\":86}\n",
        "stu2={\"name\":\"Anna\",\"math\":65,\"chinese\":72,\"english\":81}\n",
        "stu3={\"name\":\"Ken\",\"math\":78,\"chinese\":81,\"english\":70}\n",
        "students = [stu1,stu2,stu3]\n",
        "students"
      ],
      "metadata": {
        "colab": {
          "base_uri": "https://localhost:8080/"
        },
        "id": "uFTH-UH84tfc",
        "outputId": "433d1a9a-4e2a-4221-fc09-111cec21e767"
      },
      "execution_count": 10,
      "outputs": [
        {
          "output_type": "execute_result",
          "data": {
            "text/plain": [
              "[{'name': 'Ken', 'math': 51, 'chinese': 78, 'english': 86},\n",
              " {'name': 'Anna', 'math': 65, 'chinese': 72, 'english': 81},\n",
              " {'name': 'Ken', 'math': 78, 'chinese': 81, 'english': 70}]"
            ]
          },
          "metadata": {},
          "execution_count": 10
        }
      ]
    },
    {
      "cell_type": "code",
      "source": [
        "students = [stu1,stu2,stu3]\n",
        "students"
      ],
      "metadata": {
        "colab": {
          "base_uri": "https://localhost:8080/"
        },
        "id": "CKnMLnRX564d",
        "outputId": "1b20f371-a6d9-4d7d-884b-1053f73c3511"
      },
      "execution_count": 12,
      "outputs": [
        {
          "output_type": "execute_result",
          "data": {
            "text/plain": [
              "[{'name': 'Ken', 'math': 51, 'chinese': 78, 'english': 86},\n",
              " {'name': 'Anna', 'math': 65, 'chinese': 72, 'english': 81},\n",
              " {'name': 'Ken', 'math': 78, 'chinese': 81, 'english': 70}]"
            ]
          },
          "metadata": {},
          "execution_count": 12
        }
      ]
    },
    {
      "cell_type": "code",
      "source": [
        "for student in students:\n",
        "  print(\"姓名:\",student[\"name\"])\n",
        "  print(\"國文:\",student[\"chinese\"])\n",
        "  print(\"英文:\",student[\"english\"])\n",
        "  print(\"數學:\",student[\"math\"])\n",
        "  print(\"===============\")"
      ],
      "metadata": {
        "colab": {
          "base_uri": "https://localhost:8080/"
        },
        "id": "CKadzexL7ZB3",
        "outputId": "bb606f75-b5c3-4740-acbf-10ccca93eddf"
      },
      "execution_count": 11,
      "outputs": [
        {
          "output_type": "stream",
          "name": "stdout",
          "text": [
            "姓名: Ken\n",
            "國文: 78\n",
            "英文: 86\n",
            "數學: 51\n",
            "===============\n",
            "姓名: Anna\n",
            "國文: 72\n",
            "英文: 81\n",
            "數學: 65\n",
            "===============\n",
            "姓名: Ken\n",
            "國文: 81\n",
            "英文: 70\n",
            "數學: 78\n",
            "===============\n"
          ]
        }
      ]
    }
  ]
}