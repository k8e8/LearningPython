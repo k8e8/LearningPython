{
  "nbformat": 4,
  "nbformat_minor": 0,
  "metadata": {
    "colab": {
      "provenance": [],
      "authorship_tag": "ABX9TyPRMQVv66/mauv7JQ3DHXKB",
      "include_colab_link": true
    },
    "kernelspec": {
      "name": "python3",
      "display_name": "Python 3"
    },
    "language_info": {
      "name": "python"
    }
  },
  "cells": [
    {
      "cell_type": "markdown",
      "metadata": {
        "id": "view-in-github",
        "colab_type": "text"
      },
      "source": [
        "<a href=\"https://colab.research.google.com/github/k8e8/LearningPython/blob/main/0510/0510%E4%B8%8B%E5%8D%88.ipynb\" target=\"_parent\"><img src=\"https://colab.research.google.com/assets/colab-badge.svg\" alt=\"Open In Colab\"/></a>"
      ]
    },
    {
      "cell_type": "code",
      "execution_count": null,
      "metadata": {
        "id": "S7IE27Garbvy",
        "colab": {
          "base_uri": "https://localhost:8080/"
        },
        "outputId": "ff5e92c1-7efb-4d2e-b70b-7dca5ebbe5d0"
      },
      "outputs": [
        {
          "output_type": "stream",
          "name": "stdout",
          "text": [
            "10\n",
            "21\n",
            "45\n",
            "76\n",
            "101\n"
          ]
        }
      ],
      "source": [
        "#list\n",
        "for i in [10,21,45,76,101]:\n",
        "  print(i)"
      ]
    },
    {
      "cell_type": "code",
      "source": [
        "#tuple\n",
        "for i in (10,23,66,71,92):\n",
        "  print(i)"
      ],
      "metadata": {
        "colab": {
          "base_uri": "https://localhost:8080/"
        },
        "id": "6mbQhHSZ3neS",
        "outputId": "f93d8ab4-6f4c-4040-9aa2-6559777ae64a"
      },
      "execution_count": null,
      "outputs": [
        {
          "output_type": "stream",
          "name": "stdout",
          "text": [
            "10\n",
            "23\n",
            "66\n",
            "71\n",
            "92\n"
          ]
        }
      ]
    },
    {
      "cell_type": "markdown",
      "source": [
        "# python list和tuple有何差別\n",
        "\n",
        "---\n",
        "\n",
        "Python 中 list（串列）和 tuple（元組）的主要差別如下：\n",
        "\n",
        "- **1 可變性（Mutable vs Immutable）**\n",
        "- list 是可變的（mutable），可以在建立後修改內容，包括新增、刪除、改變元素。\n",
        "- tuple 是不可變的（immutable），一旦建立後，內容無法更改，不能新增、刪除或修改元素。\n",
        "- **2 語法表示**\n",
        "- list 使用中括號 [] 表示，例如：``\n",
        "- tuple 使用小括號 () 表示，例如：`(1, 2, 3)`。\n",
        "- **3 性能差異**\n",
        "- tuple 較輕量，因為不可變，佔用較少記憶體且存取速度較快。\n",
        "- list 由於可變，佔用較多記憶體，操作時可能較慢。\n",
        "- **4 使用情境**\n",
        "- list 適合需要頻繁修改資料的場合，如新增或刪除元素。\n",
        "- tuple 適合用於資料不需變動且需保護資料不被意外修改的情況，或作為函式間傳遞不可變資料的結構。\n",
        "\n",
        "- 其他特性\n",
        "- tuple 可用於具名元組（namedtuple），提供類似記錄（record）的功能，便於管理異質資料。\n",
        "- list 支援較多的內建方法，如 append、extend、remove 等，tuple 則不支援這些修改型方法。"
      ],
      "metadata": {
        "id": "QvQBw9-om9gB"
      }
    },
    {
      "cell_type": "markdown",
      "source": [
        "# python 詞典物件介紹\n",
        "\n",
        "---\n",
        "\n",
        "Python 的詞典（Dictionary）是一種非常重要且常用的資料結構，用來儲存一組「鍵（Key）-值（Value）」對，類似於一個關聯陣列或映射表。以下是詞典物件的詳細介紹：\n",
        "\n",
        "#### Python 詞典（Dictionary）介紹\n",
        "**基本概念**\n",
        "\n",
        "- 詞典由多個鍵值對組成，每個鍵對應一個值，透過鍵可以快速存取對應的值。\n",
        "- 鍵必須是不可變的資料型態，如字串、數字或不可變元組（tuple），且鍵在詞典中是唯一的。\n",
        "- 值可以是任意的 Python 物件，包括數字、字串、串列、甚至是另一個詞典。\n",
        "- 詞典本身是可變的，允許新增、修改或刪除鍵值對。\n",
        "- Python 3.7 以後的版本中，詞典保持插入順序（有順序性），但在更早版本中詞典是無序的"
      ],
      "metadata": {
        "id": "Goktc3tHnOsR"
      }
    },
    {
      "cell_type": "code",
      "source": [
        "tall={\"Ken\":174,\"Anna\":165,\"Joe\":170}\n",
        "tall[\"Ken\"]"
      ],
      "metadata": {
        "colab": {
          "base_uri": "https://localhost:8080/"
        },
        "id": "IhoTPXgG39qC",
        "outputId": "143ed5bf-bb68-4092-a6e6-71048f71de69"
      },
      "execution_count": null,
      "outputs": [
        {
          "output_type": "execute_result",
          "data": {
            "text/plain": [
              "174"
            ]
          },
          "metadata": {},
          "execution_count": 5
        }
      ]
    },
    {
      "cell_type": "code",
      "source": [
        "stu1={\"name\":\"Ken\",\"math\":51,\"chinese\":78,\"english\":86}\n",
        "stu2={\"name\":\"Anna\",\"math\":65,\"chinese\":72,\"english\":81}\n",
        "stu3={\"name\":\"Andy\",\"math\":78,\"chinese\":81,\"english\":70}\n",
        "students = [stu1,stu2,stu3]\n",
        "students"
      ],
      "metadata": {
        "colab": {
          "base_uri": "https://localhost:8080/"
        },
        "id": "uFTH-UH84tfc",
        "outputId": "da638385-8394-4c6b-8037-e78ef7e7d5ba"
      },
      "execution_count": 1,
      "outputs": [
        {
          "output_type": "execute_result",
          "data": {
            "text/plain": [
              "[{'name': 'Ken', 'math': 51, 'chinese': 78, 'english': 86},\n",
              " {'name': 'Anna', 'math': 65, 'chinese': 72, 'english': 81},\n",
              " {'name': 'Andy', 'math': 78, 'chinese': 81, 'english': 70}]"
            ]
          },
          "metadata": {},
          "execution_count": 1
        }
      ]
    },
    {
      "cell_type": "code",
      "source": [
        "students = [stu1,stu2,stu3]\n",
        "students"
      ],
      "metadata": {
        "colab": {
          "base_uri": "https://localhost:8080/"
        },
        "id": "CKnMLnRX564d",
        "outputId": "348a084d-a450-4937-bfbe-0190d43e78f3"
      },
      "execution_count": 2,
      "outputs": [
        {
          "output_type": "execute_result",
          "data": {
            "text/plain": [
              "[{'name': 'Ken', 'math': 51, 'chinese': 78, 'english': 86},\n",
              " {'name': 'Anna', 'math': 65, 'chinese': 72, 'english': 81},\n",
              " {'name': 'Andy', 'math': 78, 'chinese': 81, 'english': 70}]"
            ]
          },
          "metadata": {},
          "execution_count": 2
        }
      ]
    },
    {
      "cell_type": "code",
      "source": [
        "for student in students:\n",
        "  print(\"姓名:\",student[\"name\"])\n",
        "  print(\"國文:\",student[\"chinese\"])\n",
        "  print(\"英文:\",student[\"english\"])\n",
        "  print(\"數學:\",student[\"math\"])\n",
        "  print(\"===============\")"
      ],
      "metadata": {
        "colab": {
          "base_uri": "https://localhost:8080/"
        },
        "id": "CKadzexL7ZB3",
        "outputId": "d3062b80-67b9-4809-c410-b9875b151c9d"
      },
      "execution_count": 3,
      "outputs": [
        {
          "output_type": "stream",
          "name": "stdout",
          "text": [
            "姓名: Ken\n",
            "國文: 78\n",
            "英文: 86\n",
            "數學: 51\n",
            "===============\n",
            "姓名: Anna\n",
            "國文: 72\n",
            "英文: 81\n",
            "數學: 65\n",
            "===============\n",
            "姓名: Andy\n",
            "國文: 81\n",
            "英文: 70\n",
            "數學: 78\n",
            "===============\n"
          ]
        }
      ]
    },
    {
      "cell_type": "markdown",
      "source": [
        "#05/10 lessen 4-1"
      ],
      "metadata": {
        "id": "woK5qZlnBt0w"
      }
    },
    {
      "cell_type": "markdown",
      "source": [
        "# python while迴圈說明\n",
        "\n",
        "---\n",
        "\n",
        "Python 的 while 迴圈用來根據條件判斷，重複執行某段程式碼，直到條件不成立為止。其基本語法如下：\n",
        "\n",
        "```\n",
        "while 條件:\n",
        "    程式區塊\n",
        "```\n",
        "\n",
        "•\t當條件為 True 時，會執行縮排的程式區塊。  \n",
        "•\t每次執行完程式區塊後，會再次檢查條件，若仍為 True，則繼續執行迴圈。  \n",
        "•\t當條件變為 False，迴圈結束，程式往下繼續執行。"
      ],
      "metadata": {
        "id": "-AH-E7uuDHM-"
      }
    },
    {
      "cell_type": "code",
      "source": [
        "total=0\n",
        "while True:\n",
        "  num=int(input(\"請輸入一個數(輸入0則結束加總):\"))\n",
        "  if num==0:\n",
        "    break\n",
        "  total+=num\n",
        "print(\"總和\",total)"
      ],
      "metadata": {
        "colab": {
          "base_uri": "https://localhost:8080/"
        },
        "id": "aa1Or25kBykJ",
        "outputId": "69dd8a59-dee7-498b-dceb-59bab5f71352"
      },
      "execution_count": null,
      "outputs": [
        {
          "output_type": "stream",
          "name": "stdout",
          "text": [
            "請輸入一個數(輸入0則結束加總):101\n",
            "請輸入一個數(輸入0則結束加總):23\n",
            "請輸入一個數(輸入0則結束加總):10\n",
            "請輸入一個數(輸入0則結束加總):56\n",
            "請輸入一個數(輸入0則結束加總):0\n",
            "總和 190\n"
          ]
        }
      ]
    },
    {
      "cell_type": "markdown",
      "source": [
        "#python從0～99取得亂數#"
      ],
      "metadata": {
        "id": "96XjZuXzTlZc"
      }
    },
    {
      "cell_type": "code",
      "source": [
        "import random\n",
        "min=1\n",
        "max=99\n",
        "count=0\n",
        "random_number=random.randint(min,max)\n",
        "print(\"=======猜數字遊戲開始========\\n\")\n",
        "while True:\n",
        "  input_number=int(input(f\"請輸入數字({min}～{max}):\"))\n",
        "  count+=1\n",
        "  if(input_number==random_number):\n",
        "    print(f\"賓果，答對了，答案是{input_number}\")\n",
        "    print(f\"您猜了{count}次\")\n",
        "    break\n",
        "  elif(input_number>random_number):\n",
        "    print(\"再小一點\")\n",
        "    max=input_number-1\n",
        "  elif(input_number<random_number):\n",
        "    print(\"再大一點\")\n",
        "    min=input_number+1\n",
        "  print(f\"您已經猜了{count}次\\n\")\n",
        "print(\"遊戲結束\")"
      ],
      "metadata": {
        "colab": {
          "base_uri": "https://localhost:8080/"
        },
        "id": "coOz43KxTU9j",
        "outputId": "f3ef2d0f-9ae3-46c9-92df-3814f2a2a29d"
      },
      "execution_count": null,
      "outputs": [
        {
          "output_type": "stream",
          "name": "stdout",
          "text": [
            "=======猜數字遊戲開始========\n",
            "\n",
            "請輸入數字(1～99):80\n",
            "再小一點\n",
            "您已經猜了1次\n",
            "\n",
            "請輸入數字(1～79):20\n",
            "再大一點\n",
            "您已經猜了2次\n",
            "\n",
            "請輸入數字(21～79):50\n",
            "再小一點\n",
            "您已經猜了3次\n",
            "\n",
            "請輸入數字(21～49):30\n",
            "再大一點\n",
            "您已經猜了4次\n",
            "\n",
            "請輸入數字(31～49):40\n",
            "再大一點\n",
            "您已經猜了5次\n",
            "\n",
            "請輸入數字(41～49):45\n",
            "再大一點\n",
            "您已經猜了6次\n",
            "\n",
            "請輸入數字(46～49):48\n",
            "再大一點\n",
            "您已經猜了7次\n",
            "\n",
            "請輸入數字(49～49):49\n",
            "賓果，答對了，答案是49\n",
            "您猜了8次\n",
            "遊戲結束\n"
          ]
        }
      ]
    }
  ]
}