{
  "nbformat": 4,
  "nbformat_minor": 0,
  "metadata": {
    "colab": {
      "provenance": [],
      "authorship_tag": "ABX9TyOyfGfe98gNMJ8kqXK3nlxh",
      "include_colab_link": true
    },
    "kernelspec": {
      "name": "python3",
      "display_name": "Python 3"
    },
    "language_info": {
      "name": "python"
    }
  },
  "cells": [
    {
      "cell_type": "markdown",
      "metadata": {
        "id": "view-in-github",
        "colab_type": "text"
      },
      "source": [
        "<a href=\"https://colab.research.google.com/github/k8e8/LearningPython/blob/main/0510/0510%E4%B8%8B%E5%8D%88.ipynb\" target=\"_parent\"><img src=\"https://colab.research.google.com/assets/colab-badge.svg\" alt=\"Open In Colab\"/></a>"
      ]
    },
    {
      "cell_type": "code",
      "execution_count": 2,
      "metadata": {
        "id": "S7IE27Garbvy",
        "colab": {
          "base_uri": "https://localhost:8080/"
        },
        "outputId": "ff5e92c1-7efb-4d2e-b70b-7dca5ebbe5d0"
      },
      "outputs": [
        {
          "output_type": "stream",
          "name": "stdout",
          "text": [
            "10\n",
            "21\n",
            "45\n",
            "76\n",
            "101\n"
          ]
        }
      ],
      "source": [
        "#list\n",
        "for i in [10,21,45,76,101]:\n",
        "  print(i)"
      ]
    },
    {
      "cell_type": "code",
      "source": [
        "#tuple\n",
        "for i in (10,23,66,71,92):\n",
        "  print(i)"
      ],
      "metadata": {
        "colab": {
          "base_uri": "https://localhost:8080/"
        },
        "id": "6mbQhHSZ3neS",
        "outputId": "f93d8ab4-6f4c-4040-9aa2-6559777ae64a"
      },
      "execution_count": 3,
      "outputs": [
        {
          "output_type": "stream",
          "name": "stdout",
          "text": [
            "10\n",
            "23\n",
            "66\n",
            "71\n",
            "92\n"
          ]
        }
      ]
    },
    {
      "cell_type": "code",
      "source": [
        "tall={\"Ken\":174,\"Anna\":165,\"Joe\":170}\n",
        "tall[\"Ken\"]"
      ],
      "metadata": {
        "colab": {
          "base_uri": "https://localhost:8080/"
        },
        "id": "IhoTPXgG39qC",
        "outputId": "143ed5bf-bb68-4092-a6e6-71048f71de69"
      },
      "execution_count": 5,
      "outputs": [
        {
          "output_type": "execute_result",
          "data": {
            "text/plain": [
              "174"
            ]
          },
          "metadata": {},
          "execution_count": 5
        }
      ]
    },
    {
      "cell_type": "code",
      "source": [
        "stu1={\"name\":\"Ken\",\"math\":51,\"chinese\":78,\"english\":86}\n",
        "stu2={\"name\":\"Anna\",\"math\":65,\"chinese\":72,\"english\":81}\n",
        "stu3={\"name\":\"Ken\",\"math\":78,\"chinese\":81,\"english\":70}\n",
        "students = [stu1,stu2,stu3]\n",
        "students"
      ],
      "metadata": {
        "colab": {
          "base_uri": "https://localhost:8080/"
        },
        "id": "uFTH-UH84tfc",
        "outputId": "433d1a9a-4e2a-4221-fc09-111cec21e767"
      },
      "execution_count": 10,
      "outputs": [
        {
          "output_type": "execute_result",
          "data": {
            "text/plain": [
              "[{'name': 'Ken', 'math': 51, 'chinese': 78, 'english': 86},\n",
              " {'name': 'Anna', 'math': 65, 'chinese': 72, 'english': 81},\n",
              " {'name': 'Ken', 'math': 78, 'chinese': 81, 'english': 70}]"
            ]
          },
          "metadata": {},
          "execution_count": 10
        }
      ]
    },
    {
      "cell_type": "code",
      "source": [
        "students = [stu1,stu2,stu3]\n",
        "students"
      ],
      "metadata": {
        "colab": {
          "base_uri": "https://localhost:8080/",
          "height": 159
        },
        "id": "CKnMLnRX564d",
        "outputId": "6de732c4-f6c4-48ab-b969-d0cb96514164"
      },
      "execution_count": 9,
      "outputs": [
        {
          "output_type": "error",
          "ename": "NameError",
          "evalue": "name 'stu1' is not defined",
          "traceback": [
            "\u001b[0;31m---------------------------------------------------------------------------\u001b[0m",
            "\u001b[0;31mNameError\u001b[0m                                 Traceback (most recent call last)",
            "\u001b[0;32m<ipython-input-9-5fcd2f5d9f64>\u001b[0m in \u001b[0;36m<cell line: 0>\u001b[0;34m()\u001b[0m\n\u001b[0;32m----> 1\u001b[0;31m \u001b[0mstudents\u001b[0m \u001b[0;34m=\u001b[0m \u001b[0;34m[\u001b[0m\u001b[0mstu1\u001b[0m\u001b[0;34m,\u001b[0m\u001b[0mstu2\u001b[0m\u001b[0;34m,\u001b[0m\u001b[0mstu3\u001b[0m\u001b[0;34m]\u001b[0m\u001b[0;34m\u001b[0m\u001b[0;34m\u001b[0m\u001b[0m\n\u001b[0m\u001b[1;32m      2\u001b[0m \u001b[0mstudents\u001b[0m\u001b[0;34m\u001b[0m\u001b[0;34m\u001b[0m\u001b[0m\n",
            "\u001b[0;31mNameError\u001b[0m: name 'stu1' is not defined"
          ]
        }
      ]
    }
  ]
}