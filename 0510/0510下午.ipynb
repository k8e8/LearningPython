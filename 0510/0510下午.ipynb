{
  "nbformat": 4,
  "nbformat_minor": 0,
  "metadata": {
    "colab": {
      "provenance": [],
      "authorship_tag": "ABX9TyPGGaRi5F2xtufkN3PaW+o3",
      "include_colab_link": true
    },
    "kernelspec": {
      "name": "python3",
      "display_name": "Python 3"
    },
    "language_info": {
      "name": "python"
    }
  },
  "cells": [
    {
      "cell_type": "markdown",
      "metadata": {
        "id": "view-in-github",
        "colab_type": "text"
      },
      "source": [
        "<a href=\"https://colab.research.google.com/github/k8e8/LearningPython/blob/main/0510/0510%E4%B8%8B%E5%8D%88.ipynb\" target=\"_parent\"><img src=\"https://colab.research.google.com/assets/colab-badge.svg\" alt=\"Open In Colab\"/></a>"
      ]
    },
    {
      "cell_type": "code",
      "execution_count": 2,
      "metadata": {
        "id": "S7IE27Garbvy",
        "outputId": "ff5e92c1-7efb-4d2e-b70b-7dca5ebbe5d0",
        "colab": {
          "base_uri": "https://localhost:8080/"
        }
      },
      "outputs": [
        {
          "output_type": "stream",
          "name": "stdout",
          "text": [
            "10\n",
            "21\n",
            "45\n",
            "76\n",
            "101\n"
          ]
        }
      ],
      "source": [
        "#list\n",
        "for i in [10,21,45,76,101]:\n",
        "  print(i)"
      ]
    },
    {
      "cell_type": "code",
      "source": [
        "#tuple\n",
        "for i in (10,23,66,71,92):\n",
        "  print(i)"
      ],
      "metadata": {
        "id": "6mbQhHSZ3neS",
        "outputId": "f93d8ab4-6f4c-4040-9aa2-6559777ae64a",
        "colab": {
          "base_uri": "https://localhost:8080/"
        }
      },
      "execution_count": 3,
      "outputs": [
        {
          "output_type": "stream",
          "name": "stdout",
          "text": [
            "10\n",
            "23\n",
            "66\n",
            "71\n",
            "92\n"
          ]
        }
      ]
    },
    {
      "cell_type": "code",
      "source": [
        "tall={\"Ken\":174,\"Anna\":165,\"Joe\":170}\n",
        "tall[\"Ken\"]"
      ],
      "metadata": {
        "id": "IhoTPXgG39qC",
        "outputId": "143ed5bf-bb68-4092-a6e6-71048f71de69",
        "colab": {
          "base_uri": "https://localhost:8080/"
        }
      },
      "execution_count": 5,
      "outputs": [
        {
          "output_type": "execute_result",
          "data": {
            "text/plain": [
              "174"
            ]
          },
          "metadata": {},
          "execution_count": 5
        }
      ]
    }
  ]
}