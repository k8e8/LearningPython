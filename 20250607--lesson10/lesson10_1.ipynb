{
 "cells": [
  {
   "cell_type": "markdown",
   "id": "3586c7a8",
   "metadata": {},
   "source": [
    "https://www.perplexity.ai/search/3fe51208-8e87-4055-9e80-8c6114ac49d3"
   ]
  },
  {
   "cell_type": "code",
   "execution_count": null,
   "id": "7d030b6f",
   "metadata": {},
   "outputs": [],
   "source": [
    "import csv\n",
    "with open('個股日成交資訊.csv',encoding='utf-8',newline='') as csvfile:\n",
    "    reader = csv.reader(csvfile)\n",
    "    next(reader)\n",
    "    stacks:list[list] = list(reader)\n",
    "type(stacks)"
   ]
  },
  {
   "cell_type": "code",
   "execution_count": null,
   "id": "bd71914a",
   "metadata": {},
   "outputs": [],
   "source": [
    "import csv\n",
    "with open('個股日成交資訊.csv',encoding='utf-8',newline='') as csvfile:\n",
    "    reader = csv.reader(csvfile)\n",
    "    next(reader)\n",
    "    stacks:list = list(reader)\n",
    "stacks"
   ]
  },
  {
   "cell_type": "code",
   "execution_count": 5,
   "id": "9589182c",
   "metadata": {},
   "outputs": [
    {
     "name": "stdout",
     "output_type": "stream",
     "text": [
      "stacks 中共有 1112 筆資料。\n"
     ]
    }
   ],
   "source": [
    "import csv\n",
    "with open('個股日成交資訊.csv',encoding='utf-8',newline='') as csvfile:\n",
    "    reader = csv.DictReader(csvfile)\n",
    "    next(reader)\n",
    "    stacks:list[dict] = list(reader)\n",
    "\n",
    "# 印出 stacks 串列中的資料筆數\n",
    "print(f\"stacks 中共有 {len(stacks)} 筆資料。\") "
   ]
  }
 ],
 "metadata": {
  "kernelspec": {
   "display_name": "0607",
   "language": "python",
   "name": "python3"
  },
  "language_info": {
   "codemirror_mode": {
    "name": "ipython",
    "version": 3
   },
   "file_extension": ".py",
   "mimetype": "text/x-python",
   "name": "python",
   "nbconvert_exporter": "python",
   "pygments_lexer": "ipython3",
   "version": "3.10.18"
  }
 },
 "nbformat": 4,
 "nbformat_minor": 5
}
