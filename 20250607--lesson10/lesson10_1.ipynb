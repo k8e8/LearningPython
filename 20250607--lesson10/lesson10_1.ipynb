{
 "cells": [
  {
   "cell_type": "markdown",
   "id": "3586c7a8",
   "metadata": {},
   "source": [
    "https://www.perplexity.ai/search/3fe51208-8e87-4055-9e80-8c6114ac49d3"
   ]
  },
  {
   "cell_type": "code",
   "execution_count": 1,
   "id": "7d030b6f",
   "metadata": {},
   "outputs": [
    {
     "data": {
      "text/plain": [
       "list"
      ]
     },
     "execution_count": 1,
     "metadata": {},
     "output_type": "execute_result"
    }
   ],
   "source": [
    "import csv\n",
    "with open('個股日成交資訊.csv',encoding='utf-8',newline='') as csvfile:\n",
    "    reader = csv.reader(csvfile)\n",
    "    next(reader)\n",
    "    stacks:list[list] = list(reader)\n",
    "type(stacks)"
   ]
  },
  {
   "cell_type": "code",
   "execution_count": null,
   "id": "bd71914a",
   "metadata": {},
   "outputs": [],
   "source": [
    "import csv\n",
    "with open('個股日成交資訊.csv',encoding='utf-8',newline='') as csvfile:\n",
    "    reader = csv.reader(csvfile)\n",
    "    next(reader)\n",
    "    stacks:list = list(reader)\n",
    "stacks"
   ]
  },
  {
   "cell_type": "code",
   "execution_count": 4,
   "id": "9589182c",
   "metadata": {},
   "outputs": [
    {
     "name": "stdout",
     "output_type": "stream",
     "text": [
      "stacks 中共有 1112 筆資料。\n"
     ]
    }
   ],
   "source": [
    "import csv\n",
    "with open('個股日成交資訊.csv',encoding='utf-8',newline='') as csvfile:\n",
    "    reader = csv.DictReader(csvfile)\n",
    "    next(reader)\n",
    "    stacks:list[dict] = list(reader)\n",
    "\n",
    "# 印出 stacks 串列中的資料筆數\n",
    "print(f\"stacks 中共有 {len(stacks)} 筆資料。\") "
   ]
  },
  {
   "cell_type": "code",
   "execution_count": 5,
   "id": "3be4a01c",
   "metadata": {},
   "outputs": [
    {
     "data": {
      "text/html": [
       "<div>\n",
       "<style scoped>\n",
       "    .dataframe tbody tr th:only-of-type {\n",
       "        vertical-align: middle;\n",
       "    }\n",
       "\n",
       "    .dataframe tbody tr th {\n",
       "        vertical-align: top;\n",
       "    }\n",
       "\n",
       "    .dataframe thead th {\n",
       "        text-align: right;\n",
       "    }\n",
       "</style>\n",
       "<table border=\"1\" class=\"dataframe\">\n",
       "  <thead>\n",
       "    <tr style=\"text-align: right;\">\n",
       "      <th></th>\n",
       "      <th>證券代號</th>\n",
       "      <th>證券名稱</th>\n",
       "      <th>成交股數</th>\n",
       "      <th>成交金額</th>\n",
       "      <th>開盤價</th>\n",
       "      <th>最高價</th>\n",
       "      <th>最低價</th>\n",
       "      <th>收盤價</th>\n",
       "      <th>漲跌價差</th>\n",
       "      <th>成交筆數</th>\n",
       "    </tr>\n",
       "  </thead>\n",
       "  <tbody>\n",
       "    <tr>\n",
       "      <th>0</th>\n",
       "      <td>0051</td>\n",
       "      <td>元大中型100</td>\n",
       "      <td>43,172</td>\n",
       "      <td>1,177,199</td>\n",
       "      <td>27.30</td>\n",
       "      <td>27.57</td>\n",
       "      <td>26.75</td>\n",
       "      <td>26.75</td>\n",
       "      <td>-0.52</td>\n",
       "      <td>45</td>\n",
       "    </tr>\n",
       "    <tr>\n",
       "      <th>1</th>\n",
       "      <td>0052</td>\n",
       "      <td>富邦科技</td>\n",
       "      <td>161,425</td>\n",
       "      <td>9,156,750</td>\n",
       "      <td>57.60</td>\n",
       "      <td>57.60</td>\n",
       "      <td>55.35</td>\n",
       "      <td>55.35</td>\n",
       "      <td>-2.35</td>\n",
       "      <td>67</td>\n",
       "    </tr>\n",
       "    <tr>\n",
       "      <th>2</th>\n",
       "      <td>0053</td>\n",
       "      <td>元大電子</td>\n",
       "      <td>35,076</td>\n",
       "      <td>1,163,448</td>\n",
       "      <td>33.36</td>\n",
       "      <td>33.61</td>\n",
       "      <td>32.56</td>\n",
       "      <td>32.69</td>\n",
       "      <td>-0.67</td>\n",
       "      <td>19</td>\n",
       "    </tr>\n",
       "    <tr>\n",
       "      <th>3</th>\n",
       "      <td>0054</td>\n",
       "      <td>元大台商50</td>\n",
       "      <td>27,028</td>\n",
       "      <td>507,569</td>\n",
       "      <td>18.80</td>\n",
       "      <td>19.00</td>\n",
       "      <td>18.64</td>\n",
       "      <td>18.64</td>\n",
       "      <td>-0.36</td>\n",
       "      <td>13</td>\n",
       "    </tr>\n",
       "    <tr>\n",
       "      <th>4</th>\n",
       "      <td>0055</td>\n",
       "      <td>元大MSCI金融</td>\n",
       "      <td>62,050</td>\n",
       "      <td>940,984</td>\n",
       "      <td>15.35</td>\n",
       "      <td>15.35</td>\n",
       "      <td>15.00</td>\n",
       "      <td>15.10</td>\n",
       "      <td>-0.32</td>\n",
       "      <td>52</td>\n",
       "    </tr>\n",
       "  </tbody>\n",
       "</table>\n",
       "</div>"
      ],
      "text/plain": [
       "   證券代號      證券名稱     成交股數       成交金額    開盤價    最高價    最低價    收盤價   漲跌價差 成交筆數\n",
       "0  0051   元大中型100   43,172  1,177,199  27.30  27.57  26.75  26.75  -0.52   45\n",
       "1  0052      富邦科技  161,425  9,156,750  57.60  57.60  55.35  55.35  -2.35   67\n",
       "2  0053      元大電子   35,076  1,163,448  33.36  33.61  32.56  32.69  -0.67   19\n",
       "3  0054    元大台商50   27,028    507,569  18.80  19.00  18.64  18.64  -0.36   13\n",
       "4  0055  元大MSCI金融   62,050    940,984  15.35  15.35  15.00  15.10  -0.32   52"
      ]
     },
     "execution_count": 5,
     "metadata": {},
     "output_type": "execute_result"
    }
   ],
   "source": [
    "import pandas as pd\n",
    "\n",
    "pd.DataFrame(stacks).head()\n",
    "#顯示前5行資料"
   ]
  },
  {
   "cell_type": "code",
   "execution_count": null,
   "id": "80fcef26",
   "metadata": {},
   "outputs": [],
   "source": [
    "import pandas as pd\n",
    "df1= pd.DataFrame(stacks)\n",
    "df1.to_excel('個股日成交資訊.xlsx',sheet_name='第1頁',index=False)\n",
    "#將CSV轉換成XLSX"
   ]
  }
 ],
 "metadata": {
  "kernelspec": {
   "display_name": "0614",
   "language": "python",
   "name": "python3"
  },
  "language_info": {
   "codemirror_mode": {
    "name": "ipython",
    "version": 3
   },
   "file_extension": ".py",
   "mimetype": "text/x-python",
   "name": "python",
   "nbconvert_exporter": "python",
   "pygments_lexer": "ipython3",
   "version": "3.10.18"
  }
 },
 "nbformat": 4,
 "nbformat_minor": 5
}
