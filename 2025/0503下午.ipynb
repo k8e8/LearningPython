{
  "nbformat": 4,
  "nbformat_minor": 0,
  "metadata": {
    "colab": {
      "provenance": [],
      "authorship_tag": "ABX9TyMAPUcaimLVA67zJRhfpMCz",
      "include_colab_link": true
    },
    "kernelspec": {
      "name": "python3",
      "display_name": "Python 3"
    },
    "language_info": {
      "name": "python"
    }
  },
  "cells": [
    {
      "cell_type": "markdown",
      "metadata": {
        "id": "view-in-github",
        "colab_type": "text"
      },
      "source": [
        "<a href=\"https://colab.research.google.com/github/k8e8/LearningPython/blob/main/2025/0503%E4%B8%8B%E5%8D%88.ipynb\" target=\"_parent\"><img src=\"https://colab.research.google.com/assets/colab-badge.svg\" alt=\"Open In Colab\"/></a>"
      ]
    },
    {
      "cell_type": "code",
      "execution_count": 1,
      "metadata": {
        "id": "cp-rm2rxtzlS",
        "colab": {
          "base_uri": "https://localhost:8080/"
        },
        "outputId": "df1046ce-7c36-430e-83d7-0c8a61345543"
      },
      "outputs": [
        {
          "output_type": "execute_result",
          "data": {
            "text/plain": [
              "13"
            ]
          },
          "metadata": {},
          "execution_count": 1
        }
      ],
      "source": [
        "1+2*6"
      ]
    },
    {
      "cell_type": "markdown",
      "source": [
        "#會做6件事\n",
        "##運算式會傳出值\n",
        "-/()\n",
        "-/**"
      ],
      "metadata": {
        "id": "HSxlrVh0uNbC"
      }
    },
    {
      "cell_type": "code",
      "source": [
        "1+(5*5)**3"
      ],
      "metadata": {
        "colab": {
          "base_uri": "https://localhost:8080/"
        },
        "id": "ir3oxuVyui8F",
        "outputId": "cd1a4928-8aa8-4b55-f57b-5aadcfa94d5b"
      },
      "execution_count": 2,
      "outputs": [
        {
          "output_type": "execute_result",
          "data": {
            "text/plain": [
              "15626"
            ]
          },
          "metadata": {},
          "execution_count": 2
        }
      ]
    },
    {
      "cell_type": "code",
      "source": [
        "10+(5*2)**2+30"
      ],
      "metadata": {
        "colab": {
          "base_uri": "https://localhost:8080/"
        },
        "id": "3duKxn42vaLM",
        "outputId": "7fd08bf9-7e5f-4a05-e3d6-b958cdde05fb"
      },
      "execution_count": 3,
      "outputs": [
        {
          "output_type": "execute_result",
          "data": {
            "text/plain": [
              "140"
            ]
          },
          "metadata": {},
          "execution_count": 3
        }
      ]
    },
    {
      "cell_type": "code",
      "source": [
        "10+10+(5*3)-20/5"
      ],
      "metadata": {
        "colab": {
          "base_uri": "https://localhost:8080/"
        },
        "id": "gadv6cPyvwzu",
        "outputId": "6eebab43-2867-44c5-8320-306123ddc545"
      },
      "execution_count": 4,
      "outputs": [
        {
          "output_type": "execute_result",
          "data": {
            "text/plain": [
              "31.0"
            ]
          },
          "metadata": {},
          "execution_count": 4
        }
      ]
    },
    {
      "cell_type": "code",
      "source": [
        "n=1+2*(5*3)\n",
        "n=n+10\n",
        "n"
      ],
      "metadata": {
        "id": "INNCIgyvz7a6",
        "outputId": "5883c47f-6bfd-44c5-b7d5-d713b0f3f09e",
        "colab": {
          "base_uri": "https://localhost:8080/"
        }
      },
      "execution_count": 10,
      "outputs": [
        {
          "output_type": "execute_result",
          "data": {
            "text/plain": [
              "41"
            ]
          },
          "metadata": {},
          "execution_count": 10
        }
      ]
    }
  ]
}