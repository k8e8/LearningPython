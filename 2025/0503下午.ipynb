{
  "nbformat": 4,
  "nbformat_minor": 0,
  "metadata": {
    "colab": {
      "provenance": [],
      "authorship_tag": "ABX9TyOUsHgG7wc7CrPZZviZ93h3",
      "include_colab_link": true
    },
    "kernelspec": {
      "name": "python3",
      "display_name": "Python 3"
    },
    "language_info": {
      "name": "python"
    }
  },
  "cells": [
    {
      "cell_type": "markdown",
      "metadata": {
        "id": "view-in-github",
        "colab_type": "text"
      },
      "source": [
        "<a href=\"https://colab.research.google.com/github/k8e8/LearningPython/blob/main/2025/0503%E4%B8%8B%E5%8D%88.ipynb\" target=\"_parent\"><img src=\"https://colab.research.google.com/assets/colab-badge.svg\" alt=\"Open In Colab\"/></a>"
      ]
    },
    {
      "cell_type": "code",
      "execution_count": 1,
      "metadata": {
        "id": "cp-rm2rxtzlS",
        "outputId": "df1046ce-7c36-430e-83d7-0c8a61345543",
        "colab": {
          "base_uri": "https://localhost:8080/"
        }
      },
      "outputs": [
        {
          "output_type": "execute_result",
          "data": {
            "text/plain": [
              "13"
            ]
          },
          "metadata": {},
          "execution_count": 1
        }
      ],
      "source": [
        "1+2*6"
      ]
    },
    {
      "cell_type": "markdown",
      "source": [
        "#會做6件事\n",
        "##運算式會傳出值\n",
        "-/()\n",
        "-/**"
      ],
      "metadata": {
        "id": "HSxlrVh0uNbC"
      }
    },
    {
      "cell_type": "code",
      "source": [
        "1+(5*5)**3"
      ],
      "metadata": {
        "id": "ir3oxuVyui8F",
        "outputId": "cd1a4928-8aa8-4b55-f57b-5aadcfa94d5b",
        "colab": {
          "base_uri": "https://localhost:8080/"
        }
      },
      "execution_count": 2,
      "outputs": [
        {
          "output_type": "execute_result",
          "data": {
            "text/plain": [
              "15626"
            ]
          },
          "metadata": {},
          "execution_count": 2
        }
      ]
    },
    {
      "cell_type": "code",
      "source": [
        "10+(5*2)**2+30"
      ],
      "metadata": {
        "id": "3duKxn42vaLM",
        "outputId": "7fd08bf9-7e5f-4a05-e3d6-b958cdde05fb",
        "colab": {
          "base_uri": "https://localhost:8080/"
        }
      },
      "execution_count": 3,
      "outputs": [
        {
          "output_type": "execute_result",
          "data": {
            "text/plain": [
              "140"
            ]
          },
          "metadata": {},
          "execution_count": 3
        }
      ]
    },
    {
      "cell_type": "code",
      "source": [
        "10+10+(5*3)-20/5"
      ],
      "metadata": {
        "id": "gadv6cPyvwzu",
        "outputId": "6eebab43-2867-44c5-8320-306123ddc545",
        "colab": {
          "base_uri": "https://localhost:8080/"
        }
      },
      "execution_count": 4,
      "outputs": [
        {
          "output_type": "execute_result",
          "data": {
            "text/plain": [
              "31.0"
            ]
          },
          "metadata": {},
          "execution_count": 4
        }
      ]
    }
  ]
}