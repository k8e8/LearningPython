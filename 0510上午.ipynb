{
  "nbformat": 4,
  "nbformat_minor": 0,
  "metadata": {
    "colab": {
      "provenance": [],
      "authorship_tag": "ABX9TyPaj43iXq7QsXtxZjD3uz6z",
      "include_colab_link": true
    },
    "kernelspec": {
      "name": "python3",
      "display_name": "Python 3"
    },
    "language_info": {
      "name": "python"
    }
  },
  "cells": [
    {
      "cell_type": "markdown",
      "metadata": {
        "id": "view-in-github",
        "colab_type": "text"
      },
      "source": [
        "<a href=\"https://colab.research.google.com/github/k8e8/LearningPython/blob/main/0510%E4%B8%8A%E5%8D%88.ipynb\" target=\"_parent\"><img src=\"https://colab.research.google.com/assets/colab-badge.svg\" alt=\"Open In Colab\"/></a>"
      ]
    },
    {
      "cell_type": "markdown",
      "source": [
        "# python的條件式\n",
        "## python的比較運算子\n",
        "Python 的比較運算子用來比較兩個值，並回傳布林值（True 或 False）。Python 支援以下主要的比較運算子：\n",
        "\n",
        "- `<` ：小於\n",
        "- `<=` ：小於等於\n",
        "- `>` ：大於\n",
        "- `>=` ：大於等於\n",
        "- `==` ：等於\n",
        "- `!=` ：不等於\n",
        "- `is` ：判斷兩個物件是否為同一個物件（物件識別）\n",
        "- `is not` ：判斷兩個物件是否不是同一個物件"
      ],
      "metadata": {
        "id": "_Nei2ZGS4eTD"
      }
    },
    {
      "cell_type": "code",
      "execution_count": null,
      "metadata": {
        "id": "Wl_5KbXG4MIh",
        "colab": {
          "base_uri": "https://localhost:8080/"
        },
        "outputId": "fc6a66f5-d5da-4032-849b-a408cb113971"
      },
      "outputs": [
        {
          "output_type": "execute_result",
          "data": {
            "text/plain": [
              "False"
            ]
          },
          "metadata": {},
          "execution_count": 4
        }
      ],
      "source": [
        "5 == 5\n",
        "5!=5"
      ]
    },
    {
      "cell_type": "markdown",
      "source": [
        "#雙項選擇"
      ],
      "metadata": {
        "id": "MGMRvsov8aWI"
      }
    },
    {
      "cell_type": "code",
      "source": [
        "score=60\n",
        "if score>=60:\n",
        "  print('及格')\n",
        "else:\n",
        "  print(\"不及格\")"
      ],
      "metadata": {
        "id": "L-BtgjiY5Jjb",
        "outputId": "a09067aa-df33-45c1-da85-99c32fd9ca72",
        "colab": {
          "base_uri": "https://localhost:8080/"
        }
      },
      "execution_count": null,
      "outputs": [
        {
          "output_type": "stream",
          "name": "stdout",
          "text": [
            "及格\n"
          ]
        }
      ]
    },
    {
      "cell_type": "markdown",
      "source": [
        "#巢狀判斷"
      ],
      "metadata": {
        "id": "AjAsKgyDCh7M"
      }
    },
    {
      "cell_type": "code",
      "source": [
        "score=59\n",
        "if score>=80:\n",
        "  print(\"優\")\n",
        "else:\n",
        "  if score>=60:\n",
        "    print(\"甲\")\n",
        "  else:\n",
        "    print(\"不及格\")"
      ],
      "metadata": {
        "colab": {
          "base_uri": "https://localhost:8080/"
        },
        "id": "9UXmT-KJClsz",
        "outputId": "5f65f534-9850-4f64-9a7a-b733f9b357af"
      },
      "execution_count": null,
      "outputs": [
        {
          "output_type": "stream",
          "name": "stdout",
          "text": [
            "不及格\n"
          ]
        }
      ]
    },
    {
      "cell_type": "code",
      "source": [
        "#多項選擇的結構\n",
        "scores = 59\n",
        "if scores < 60:\n",
        "  print(\"不及格\")\n",
        "elif scores <70:\n",
        "  print(\"丙\")\n",
        "elif scores <80:\n",
        "  print(\"乙\")\n",
        "elif scores < 90:\n",
        "  print(\"甲\")\n",
        "else:\n",
        "  print(\"優\")"
      ],
      "metadata": {
        "id": "Z9AE6l7_If0J",
        "outputId": "8ae0bb82-69ba-4648-d3f3-460505bdfcd2",
        "colab": {
          "base_uri": "https://localhost:8080/"
        }
      },
      "execution_count": null,
      "outputs": [
        {
          "output_type": "stream",
          "name": "stdout",
          "text": [
            "不及格\n"
          ]
        }
      ]
    },
    {
      "cell_type": "code",
      "source": [
        "score=80\n",
        "if score<60:\n",
        "  print(\"不及格\")\n",
        "elif score<70:\n",
        "  print(\"丙\")\n",
        "elif score<80:\n",
        "  print(\"乙\")\n",
        "elif score<90:\n",
        "  print(\"甲\")\n",
        "else:\n",
        "  print(\"優\")"
      ],
      "metadata": {
        "id": "XMsSuqyCIrbQ",
        "outputId": "96559048-5830-4330-a11d-674b69b5311b",
        "colab": {
          "base_uri": "https://localhost:8080/"
        }
      },
      "execution_count": null,
      "outputs": [
        {
          "output_type": "stream",
          "name": "stdout",
          "text": [
            "甲\n"
          ]
        }
      ]
    },
    {
      "cell_type": "markdown",
      "source": [
        "# python邏輯運算子\n",
        "\n",
        "---\n",
        "Python的邏輯運算子主要用於結合多個條件判斷，結果為布林值（True或False）。\n",
        "\n",
        "Python中有三種基本的邏輯運算子：\n",
        "\n",
        "Python邏輯運算子及語法說明\n",
        "\n",
        "- and：邏輯且運算子，當兩個條件都為True時，整體結果才為True，否則為False。\n",
        "- or：邏輯或運算子，只要其中一個條件為True，整體結果即為True，只有全部為False時結果才為False。\n",
        "- not：邏輯非運算子，將條件結果取反，True變False，False變True。"
      ],
      "metadata": {
        "id": "ryas7KQEQetk"
      }
    },
    {
      "cell_type": "code",
      "source": [
        "p=92\n",
        "if p>=80 and p<=120:\n",
        "  print(\"正常\")\n",
        "else:\n",
        "  print(\"不正常\")"
      ],
      "metadata": {
        "id": "ovDYAp6JOzLY",
        "outputId": "fb1f5962-a880-4598-dee2-cc60c7511c72",
        "colab": {
          "base_uri": "https://localhost:8080/"
        }
      },
      "execution_count": 26,
      "outputs": [
        {
          "output_type": "stream",
          "name": "stdout",
          "text": [
            "正常\n"
          ]
        }
      ]
    },
    {
      "cell_type": "code",
      "source": [],
      "metadata": {
        "id": "Pakt_RneQmxc"
      },
      "execution_count": null,
      "outputs": []
    }
  ]
}