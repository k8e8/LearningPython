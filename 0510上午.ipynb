{
  "nbformat": 4,
  "nbformat_minor": 0,
  "metadata": {
    "colab": {
      "provenance": [],
      "authorship_tag": "ABX9TyP6Ih/xRCKBQ7BIQJfRy3gT",
      "include_colab_link": true
    },
    "kernelspec": {
      "name": "python3",
      "display_name": "Python 3"
    },
    "language_info": {
      "name": "python"
    }
  },
  "cells": [
    {
      "cell_type": "markdown",
      "metadata": {
        "id": "view-in-github",
        "colab_type": "text"
      },
      "source": [
        "<a href=\"https://colab.research.google.com/github/k8e8/LearningPython/blob/main/0510%E4%B8%8A%E5%8D%88.ipynb\" target=\"_parent\"><img src=\"https://colab.research.google.com/assets/colab-badge.svg\" alt=\"Open In Colab\"/></a>"
      ]
    },
    {
      "cell_type": "markdown",
      "source": [
        "# python的條件式\n",
        "## python的比較運算子\n",
        "Python 的比較運算子用來比較兩個值，並回傳布林值（True 或 False）。Python 支援以下主要的比較運算子：\n",
        "\n",
        "- `<` ：小於\n",
        "- `<=` ：小於等於\n",
        "- `>` ：大於\n",
        "- `>=` ：大於等於\n",
        "- `==` ：等於\n",
        "- `!=` ：不等於\n",
        "- `is` ：判斷兩個物件是否為同一個物件（物件識別）\n",
        "- `is not` ：判斷兩個物件是否不是同一個物件"
      ],
      "metadata": {
        "id": "_Nei2ZGS4eTD"
      }
    },
    {
      "cell_type": "code",
      "execution_count": null,
      "metadata": {
        "id": "Wl_5KbXG4MIh",
        "colab": {
          "base_uri": "https://localhost:8080/"
        },
        "outputId": "fc6a66f5-d5da-4032-849b-a408cb113971"
      },
      "outputs": [
        {
          "output_type": "execute_result",
          "data": {
            "text/plain": [
              "False"
            ]
          },
          "metadata": {},
          "execution_count": 4
        }
      ],
      "source": [
        "5 == 5\n",
        "5!=5"
      ]
    },
    {
      "cell_type": "markdown",
      "source": [
        "#雙項選擇"
      ],
      "metadata": {
        "id": "MGMRvsov8aWI"
      }
    },
    {
      "cell_type": "code",
      "source": [
        "score=60\n",
        "if score>=60:\n",
        "  print('及格')\n",
        "else:\n",
        "  print(\"不及格\")"
      ],
      "metadata": {
        "id": "L-BtgjiY5Jjb",
        "outputId": "a09067aa-df33-45c1-da85-99c32fd9ca72",
        "colab": {
          "base_uri": "https://localhost:8080/"
        }
      },
      "execution_count": null,
      "outputs": [
        {
          "output_type": "stream",
          "name": "stdout",
          "text": [
            "及格\n"
          ]
        }
      ]
    },
    {
      "cell_type": "markdown",
      "source": [
        "單項選擇"
      ],
      "metadata": {
        "id": "tDBmrREh9U9q"
      }
    },
    {
      "cell_type": "code",
      "source": [
        "score=50\n",
        "if score<60:\n",
        "  print(\"不及格\")\n",
        "print(\"應用結束\")\n"
      ],
      "metadata": {
        "id": "zrzxKSzx9Xt5",
        "outputId": "e2d385b6-2906-40f6-9d3d-b90c310dd956",
        "colab": {
          "base_uri": "https://localhost:8080/"
        }
      },
      "execution_count": 10,
      "outputs": [
        {
          "output_type": "stream",
          "name": "stdout",
          "text": [
            "不及格\n",
            "應用結束\n"
          ]
        }
      ]
    }
  ]
}