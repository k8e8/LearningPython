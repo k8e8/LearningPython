{
  "nbformat": 4,
  "nbformat_minor": 0,
  "metadata": {
    "colab": {
      "provenance": [],
      "authorship_tag": "ABX9TyNlbi8CNU/pqG4EP8aN7PGr",
      "include_colab_link": true
    },
    "kernelspec": {
      "name": "python3",
      "display_name": "Python 3"
    },
    "language_info": {
      "name": "python"
    }
  },
  "cells": [
    {
      "cell_type": "markdown",
      "metadata": {
        "id": "view-in-github",
        "colab_type": "text"
      },
      "source": [
        "<a href=\"https://colab.research.google.com/github/k8e8/LearningPython/blob/main/0510%E4%B8%8A%E5%8D%88.ipynb\" target=\"_parent\"><img src=\"https://colab.research.google.com/assets/colab-badge.svg\" alt=\"Open In Colab\"/></a>"
      ]
    },
    {
      "cell_type": "markdown",
      "source": [
        "# python的條件式\n",
        "## python的比較運算子\n",
        "Python 的比較運算子用來比較兩個值，並回傳布林值（True 或 False）。Python 支援以下主要的比較運算子：\n",
        "\n",
        "- `<` ：小於\n",
        "- `<=` ：小於等於\n",
        "- `>` ：大於\n",
        "- `>=` ：大於等於\n",
        "- `==` ：等於\n",
        "- `!=` ：不等於\n",
        "- `is` ：判斷兩個物件是否為同一個物件（物件識別）\n",
        "- `is not` ：判斷兩個物件是否不是同一個物件"
      ],
      "metadata": {
        "id": "_Nei2ZGS4eTD"
      }
    },
    {
      "cell_type": "code",
      "execution_count": null,
      "metadata": {
        "id": "Wl_5KbXG4MIh",
        "colab": {
          "base_uri": "https://localhost:8080/"
        },
        "outputId": "fc6a66f5-d5da-4032-849b-a408cb113971"
      },
      "outputs": [
        {
          "output_type": "execute_result",
          "data": {
            "text/plain": [
              "False"
            ]
          },
          "metadata": {},
          "execution_count": 4
        }
      ],
      "source": [
        "5 == 5\n",
        "5!=5"
      ]
    },
    {
      "cell_type": "markdown",
      "source": [
        "##在Python中，條件式可分為「單項式」與「雙項式」，以下說明其語法、意義與範例：\n",
        "\n",
        "## 單項式條件式\n",
        "\n",
        "**語法：**\n",
        "\n",
        "```python\n",
        "if 條件:\n",
        "    執行程式區塊\n",
        "```\n",
        "\n",
        "**說明：**  \n",
        "單項式條件式指的是只有一個判斷條件，當條件成立（True）時，執行縮排的程式區塊，否則不執行任何動作（無else部分）。這是最簡單的條件判斷。\n",
        "\n",
        "**範例：**\n",
        "\n",
        "```python\n",
        "score = 75\n",
        "if score >= 60:\n",
        "    print(\"及格\")\n",
        "```\n",
        "\n",
        "執行結果：\n",
        "\n",
        "```\n",
        "及格\n",
        "```\n",
        "\n",
        "（當score大於等於60時，印出「及格」）[4][5][6]\n",
        "\n",
        "---\n",
        "\n",
        "## 雙項式條件式\n",
        "\n",
        "**語法：**\n",
        "\n",
        "```python\n",
        "if 條件:\n",
        "    條件成立時執行的程式區塊\n",
        "else:\n",
        "    條件不成立時執行的程式區塊\n",
        "```\n",
        "\n",
        "**說明：**  \n",
        "雙項式條件式有兩個分支，當條件為True時執行if區塊，條件為False時執行else區塊，確保程式必定執行其中一個區塊。\n",
        "\n",
        "**範例：**\n",
        "\n",
        "```python\n",
        "score = 55\n",
        "if score >= 60:\n",
        "    print(\"及格\")\n",
        "else:\n",
        "    print(\"不及格\")\n",
        "```\n",
        "\n",
        "執行結果：\n",
        "\n",
        "```\n",
        "不及格\n",
        "```\n",
        "\n",
        "（當score小於60時，印出「不及格」）[3][4][5]\n",
        "\n",
        "---\n",
        "\n",
        "## 補充：多項式條件式（if-elif-else）\n",
        "\n",
        "當有多個條件判斷時，可使用elif擴充：\n",
        "\n",
        "```python\n",
        "score = 85\n",
        "if score >= 90:\n",
        "    print(\"優等\")\n",
        "elif score >= 60:\n",
        "    print(\"及格\")\n",
        "else:\n",
        "    print(\"不及格\")\n",
        "```\n",
        "\n",
        "---\n",
        "\n",
        "## 小結\n",
        "\n",
        "| 條件式類型 | 語法範例                        | 說明                         |\n",
        "|------------|--------------------------------|------------------------------|\n",
        "| 單項式     | `if 條件:`<br>`    程式區塊`   | 條件成立才執行，否則跳過     |\n",
        "| 雙項式     | `if 條件:`<br>`    程式區塊`<br>`else:`<br>`    程式區塊` | 條件成立執行if區塊，否則執行else區塊 |\n",
        "\n",
        "---\n",
        "\n",
        "\n"
      ],
      "metadata": {
        "id": "PIAOXVkwfWs-"
      }
    },
    {
      "cell_type": "markdown",
      "source": [
        "#雙項選擇"
      ],
      "metadata": {
        "id": "MGMRvsov8aWI"
      }
    },
    {
      "cell_type": "code",
      "source": [
        "score=60\n",
        "if score>=60:\n",
        "  print('及格')\n",
        "else:\n",
        "  print(\"不及格\")"
      ],
      "metadata": {
        "id": "L-BtgjiY5Jjb",
        "outputId": "a09067aa-df33-45c1-da85-99c32fd9ca72",
        "colab": {
          "base_uri": "https://localhost:8080/"
        }
      },
      "execution_count": null,
      "outputs": [
        {
          "output_type": "stream",
          "name": "stdout",
          "text": [
            "及格\n"
          ]
        }
      ]
    },
    {
      "cell_type": "markdown",
      "source": [
        "#巢狀判斷"
      ],
      "metadata": {
        "id": "AjAsKgyDCh7M"
      }
    },
    {
      "cell_type": "code",
      "source": [
        "score=59\n",
        "if score>=80:\n",
        "  print(\"優\")\n",
        "else:\n",
        "  if score>=60:\n",
        "    print(\"甲\")\n",
        "  else:\n",
        "    print(\"不及格\")"
      ],
      "metadata": {
        "colab": {
          "base_uri": "https://localhost:8080/"
        },
        "id": "9UXmT-KJClsz",
        "outputId": "5f65f534-9850-4f64-9a7a-b733f9b357af"
      },
      "execution_count": null,
      "outputs": [
        {
          "output_type": "stream",
          "name": "stdout",
          "text": [
            "不及格\n"
          ]
        }
      ]
    },
    {
      "cell_type": "markdown",
      "source": [
        "# python的多項選擇說明\n",
        "- 語法\n",
        "- 小範例\n",
        "- 繁體中文回覆\n",
        "\n",
        "---\n",
        "Python 的多項選擇結構（多向選擇）是利用多個 if-elif-else 來實現，讓程式可以根據不同條件執行不同的程式區塊。這種結構適合用來處理多種可能的條件判斷，並依據條件給出不同的結果。\n",
        "\n",
        "```\n",
        "if 條件判斷1:\n",
        "    條件判斷1成立時執行的程式碼\n",
        "elif 條件判斷2:\n",
        "    條件判斷2成立時執行的程式碼\n",
        "elif 條件判斷3:\n",
        "    條件判斷3成立時執行的程式碼\n",
        "...\n",
        "else:\n",
        "    以上條件皆不成立時執行的程式碼\n",
        "\n",
        "```"
      ],
      "metadata": {
        "id": "UoHXHVvggCv2"
      }
    },
    {
      "cell_type": "code",
      "source": [
        "#多項選擇的結構\n",
        "scores = 59\n",
        "if scores < 60:\n",
        "  print(\"不及格\")\n",
        "elif scores <70:\n",
        "  print(\"丙\")\n",
        "elif scores <80:\n",
        "  print(\"乙\")\n",
        "elif scores < 90:\n",
        "  print(\"甲\")\n",
        "else:\n",
        "  print(\"優\")"
      ],
      "metadata": {
        "id": "Z9AE6l7_If0J",
        "outputId": "8ae0bb82-69ba-4648-d3f3-460505bdfcd2",
        "colab": {
          "base_uri": "https://localhost:8080/"
        }
      },
      "execution_count": null,
      "outputs": [
        {
          "output_type": "stream",
          "name": "stdout",
          "text": [
            "不及格\n"
          ]
        }
      ]
    },
    {
      "cell_type": "code",
      "source": [
        "score=80\n",
        "if score<60:\n",
        "  print(\"不及格\")\n",
        "elif score<70:\n",
        "  print(\"丙\")\n",
        "elif score<80:\n",
        "  print(\"乙\")\n",
        "elif score<90:\n",
        "  print(\"甲\")\n",
        "else:\n",
        "  print(\"優\")"
      ],
      "metadata": {
        "id": "XMsSuqyCIrbQ",
        "outputId": "96559048-5830-4330-a11d-674b69b5311b",
        "colab": {
          "base_uri": "https://localhost:8080/"
        }
      },
      "execution_count": null,
      "outputs": [
        {
          "output_type": "stream",
          "name": "stdout",
          "text": [
            "甲\n"
          ]
        }
      ]
    },
    {
      "cell_type": "markdown",
      "source": [
        "# python邏輯運算子\n",
        "\n",
        "---\n",
        "Python的邏輯運算子主要用於結合多個條件判斷，結果為布林值（True或False）。\n",
        "\n",
        "Python中有三種基本的邏輯運算子：\n",
        "\n",
        "Python邏輯運算子及語法說明\n",
        "\n",
        "- and：邏輯且運算子，當兩個條件都為True時，整體結果才為True，否則為False。\n",
        "- or：邏輯或運算子，只要其中一個條件為True，整體結果即為True，只有全部為False時結果才為False。\n",
        "- not：邏輯非運算子，將條件結果取反，True變False，False變True。"
      ],
      "metadata": {
        "id": "ryas7KQEQetk"
      }
    },
    {
      "cell_type": "code",
      "source": [
        "p=92\n",
        "if p>=80 and p<=120:\n",
        "  print(\"正常\")\n",
        "else:\n",
        "  print(\"不正常\")"
      ],
      "metadata": {
        "colab": {
          "base_uri": "https://localhost:8080/"
        },
        "id": "ovDYAp6JOzLY",
        "outputId": "fb1f5962-a880-4598-dee2-cc60c7511c72"
      },
      "execution_count": null,
      "outputs": [
        {
          "output_type": "stream",
          "name": "stdout",
          "text": [
            "正常\n"
          ]
        }
      ]
    },
    {
      "cell_type": "code",
      "source": [
        "presure = 149\n",
        "if presure < 80 or presure > 120:\n",
        "  print(\"血壓不正常\")\n",
        "else:\n",
        "  print(\"血壓正常\")"
      ],
      "metadata": {
        "id": "RQpeSWafhuZl",
        "outputId": "30e404aa-ec7f-4214-b96b-8d450f409e00",
        "colab": {
          "base_uri": "https://localhost:8080/"
        }
      },
      "execution_count": 4,
      "outputs": [
        {
          "output_type": "stream",
          "name": "stdout",
          "text": [
            "血壓不正常\n"
          ]
        }
      ]
    },
    {
      "cell_type": "code",
      "source": [
        "#not的功能是讓true和false的程式區塊對調\n",
        "presure = 145\n",
        "if not (presure >=80 and presure <= 120):\n",
        "  print(\"血壓不正常\")\n",
        "else:\n",
        "  print(\"血壓正常\")"
      ],
      "metadata": {
        "id": "4cL8EeuuhekV",
        "outputId": "34eb8b19-638b-42a0-c09e-64ffa8e71dfa",
        "colab": {
          "base_uri": "https://localhost:8080/"
        }
      },
      "execution_count": 2,
      "outputs": [
        {
          "output_type": "stream",
          "name": "stdout",
          "text": [
            "血壓不正常\n"
          ]
        }
      ]
    },
    {
      "cell_type": "markdown",
      "source": [
        "# python for迴圈的說明\n",
        "\n",
        "---\n",
        "Python 中的 for 迴圈是一種用來遍歷（迭代）集合中每個元素的控制結構，常用於對清單、字串、元組、字典、集合等可迭代物件進行重複操作。其基本語法如下：\n",
        "\n",
        "```\n",
        "for 變數 in 集合:\n",
        "    # 迴圈內要執行的程式碼\n",
        "\n",
        "```"
      ],
      "metadata": {
        "id": "8kyXtdCXWJyq"
      }
    },
    {
      "cell_type": "code",
      "source": [
        "#為何要for迴圈\n",
        "#1加到10\n",
        "\n",
        "n = 0\n",
        "n += 1\n",
        "n += 2\n",
        "n += 3\n",
        "n += 4\n",
        "n += 5\n",
        "n += 6\n",
        "n += 7\n",
        "n += 8\n",
        "n += 9\n",
        "n += 10\n",
        "n"
      ],
      "metadata": {
        "id": "TX4zYEoAiucy",
        "outputId": "5a56ab85-bfee-43d8-e70b-28e46f0e8377",
        "colab": {
          "base_uri": "https://localhost:8080/"
        }
      },
      "execution_count": 5,
      "outputs": [
        {
          "output_type": "execute_result",
          "data": {
            "text/plain": [
              "55"
            ]
          },
          "metadata": {},
          "execution_count": 5
        }
      ]
    },
    {
      "cell_type": "code",
      "source": [
        "x=0\n",
        "for n in range(1,11):\n",
        "  x+=n\n",
        "x"
      ],
      "metadata": {
        "colab": {
          "base_uri": "https://localhost:8080/"
        },
        "id": "Pakt_RneQmxc",
        "outputId": "78c7a8cf-0cd0-4d8c-ee13-6a3d911f3cf7"
      },
      "execution_count": 6,
      "outputs": [
        {
          "output_type": "execute_result",
          "data": {
            "text/plain": [
              "55"
            ]
          },
          "metadata": {},
          "execution_count": 6
        }
      ]
    }
  ]
}