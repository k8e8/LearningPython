{
 "cells": [
  {
   "cell_type": "code",
   "execution_count": 1,
   "id": "70c4ee32",
   "metadata": {},
   "outputs": [
    {
     "name": "stderr",
     "output_type": "stream",
     "text": [
      "[*********************100%***********************]  1 of 1 completed\n"
     ]
    },
    {
     "data": {
      "text/html": [
       "<div>\n",
       "<style scoped>\n",
       "    .dataframe tbody tr th:only-of-type {\n",
       "        vertical-align: middle;\n",
       "    }\n",
       "\n",
       "    .dataframe tbody tr th {\n",
       "        vertical-align: top;\n",
       "    }\n",
       "\n",
       "    .dataframe thead tr th {\n",
       "        text-align: left;\n",
       "    }\n",
       "\n",
       "    .dataframe thead tr:last-of-type th {\n",
       "        text-align: right;\n",
       "    }\n",
       "</style>\n",
       "<table border=\"1\" class=\"dataframe\">\n",
       "  <thead>\n",
       "    <tr>\n",
       "      <th>Price</th>\n",
       "      <th>Close</th>\n",
       "      <th>High</th>\n",
       "      <th>Low</th>\n",
       "      <th>Open</th>\n",
       "      <th>Volume</th>\n",
       "    </tr>\n",
       "    <tr>\n",
       "      <th>Ticker</th>\n",
       "      <th>2330.TW</th>\n",
       "      <th>2330.TW</th>\n",
       "      <th>2330.TW</th>\n",
       "      <th>2330.TW</th>\n",
       "      <th>2330.TW</th>\n",
       "    </tr>\n",
       "    <tr>\n",
       "      <th>Date</th>\n",
       "      <th></th>\n",
       "      <th></th>\n",
       "      <th></th>\n",
       "      <th></th>\n",
       "      <th></th>\n",
       "    </tr>\n",
       "  </thead>\n",
       "  <tbody>\n",
       "    <tr>\n",
       "      <th>2024-05-27</th>\n",
       "      <td>869.0</td>\n",
       "      <td>878.0</td>\n",
       "      <td>866.0</td>\n",
       "      <td>872.0</td>\n",
       "      <td>26726954</td>\n",
       "    </tr>\n",
       "    <tr>\n",
       "      <th>2024-05-28</th>\n",
       "      <td>865.0</td>\n",
       "      <td>873.0</td>\n",
       "      <td>865.0</td>\n",
       "      <td>867.0</td>\n",
       "      <td>25329216</td>\n",
       "    </tr>\n",
       "    <tr>\n",
       "      <th>2024-05-29</th>\n",
       "      <td>857.0</td>\n",
       "      <td>868.0</td>\n",
       "      <td>856.0</td>\n",
       "      <td>861.0</td>\n",
       "      <td>33436835</td>\n",
       "    </tr>\n",
       "    <tr>\n",
       "      <th>2024-05-30</th>\n",
       "      <td>838.0</td>\n",
       "      <td>848.0</td>\n",
       "      <td>838.0</td>\n",
       "      <td>841.0</td>\n",
       "      <td>38065102</td>\n",
       "    </tr>\n",
       "    <tr>\n",
       "      <th>2024-05-31</th>\n",
       "      <td>821.0</td>\n",
       "      <td>846.0</td>\n",
       "      <td>821.0</td>\n",
       "      <td>838.0</td>\n",
       "      <td>77438401</td>\n",
       "    </tr>\n",
       "  </tbody>\n",
       "</table>\n",
       "</div>"
      ],
      "text/plain": [
       "Price        Close    High     Low    Open    Volume\n",
       "Ticker     2330.TW 2330.TW 2330.TW 2330.TW   2330.TW\n",
       "Date                                                \n",
       "2024-05-27   869.0   878.0   866.0   872.0  26726954\n",
       "2024-05-28   865.0   873.0   865.0   867.0  25329216\n",
       "2024-05-29   857.0   868.0   856.0   861.0  33436835\n",
       "2024-05-30   838.0   848.0   838.0   841.0  38065102\n",
       "2024-05-31   821.0   846.0   821.0   838.0  77438401"
      ]
     },
     "execution_count": 1,
     "metadata": {},
     "output_type": "execute_result"
    }
   ],
   "source": [
    "import yfinance as yf\n",
    "df=yf.download('2330.TW', start='2024-01-01', end='2024-06-01',auto_adjust=True)\n",
    "df.tail()"
   ]
  },
  {
   "cell_type": "code",
   "execution_count": 2,
   "id": "835b9051",
   "metadata": {},
   "outputs": [
    {
     "name": "stderr",
     "output_type": "stream",
     "text": [
      "[*********************100%***********************]  1 of 1 completed\n",
      "[*********************100%***********************]  1 of 1 completed\n",
      "[*********************100%***********************]  1 of 1 completed\n",
      "[*********************100%***********************]  1 of 1 completed\n"
     ]
    }
   ],
   "source": [
    "import yfinance as yf\n",
    "tw2330 = yf.download('2330.TW', start='2024-01-01', end='2024-06-01',auto_adjust=True)\n",
    "tw2303 = yf.download('2303.TW', start='2024-01-01', end='2024-06-01',auto_adjust=True)\n",
    "tw2454 = yf.download('2454.TW', start='2024-01-01', end='2024-06-01',auto_adjust=True)  \n",
    "tw2317 = yf.download('2317.TW', start='2024-01-01', end='2024-06-01',auto_adjust=True)"
   ]
  },
  {
   "cell_type": "code",
   "execution_count": 3,
   "id": "6631a637",
   "metadata": {},
   "outputs": [
    {
     "name": "stdout",
     "output_type": "stream",
     "text": [
      "<class 'pandas.core.frame.DataFrame'>\n",
      "DatetimeIndex: 98 entries, 2024-01-02 to 2024-05-31\n",
      "Data columns (total 5 columns):\n",
      " #   Column             Non-Null Count  Dtype  \n",
      "---  ------             --------------  -----  \n",
      " 0   (Close, 2330.TW)   98 non-null     float64\n",
      " 1   (High, 2330.TW)    98 non-null     float64\n",
      " 2   (Low, 2330.TW)     98 non-null     float64\n",
      " 3   (Open, 2330.TW)    98 non-null     float64\n",
      " 4   (Volume, 2330.TW)  98 non-null     int64  \n",
      "dtypes: float64(4), int64(1)\n",
      "memory usage: 4.6 KB\n"
     ]
    }
   ],
   "source": [
    "tw2330.info()"
   ]
  },
  {
   "cell_type": "code",
   "execution_count": 8,
   "id": "784fa39f",
   "metadata": {},
   "outputs": [
    {
     "data": {
      "text/plain": [
       "Date\n",
       "2024-01-02    51.900002\n",
       "2024-01-03    50.599998\n",
       "2024-01-04    50.799999\n",
       "2024-01-05    50.799999\n",
       "2024-01-08    50.500000\n",
       "                ...    \n",
       "2024-05-27    56.599998\n",
       "2024-05-28    56.400002\n",
       "2024-05-29    55.900002\n",
       "2024-05-30    55.799999\n",
       "2024-05-31    55.000000\n",
       "Name: (Close, 2303.TW), Length: 98, dtype: float64"
      ]
     },
     "execution_count": 8,
     "metadata": {},
     "output_type": "execute_result"
    }
   ],
   "source": [
    "tw2330[\"Close\"][\"2330.TW\"]\n",
    "tw2330[('Close','2330.TW')]\n",
    "tw2303[('Close','2303.TW')]"
   ]
  }
 ],
 "metadata": {
  "kernelspec": {
   "display_name": "0628",
   "language": "python",
   "name": "python3"
  },
  "language_info": {
   "codemirror_mode": {
    "name": "ipython",
    "version": 3
   },
   "file_extension": ".py",
   "mimetype": "text/x-python",
   "name": "python",
   "nbconvert_exporter": "python",
   "pygments_lexer": "ipython3",
   "version": "3.10.18"
  }
 },
 "nbformat": 4,
 "nbformat_minor": 5
}
