{
 "cells": [
  {
   "cell_type": "markdown",
   "id": "82bd4f4c",
   "metadata": {},
   "source": [
    "如何呼叫fouction"
   ]
  },
  {
   "cell_type": "code",
   "execution_count": 2,
   "id": "2f21c30c",
   "metadata": {},
   "outputs": [],
   "source": [
    "def menu(wine:str,entree:str,dessert:str)->None:\n",
    "    print(f\"前酒:{wine}\")\n",
    "    print(f\"主餐:{entree}\")\n",
    "    print(f\"甜點:{dessert}\")"
   ]
  },
  {
   "cell_type": "markdown",
   "id": "b19b53f4",
   "metadata": {},
   "source": [
    "###引述值的呼叫，要依照參數的順序"
   ]
  },
  {
   "cell_type": "code",
   "execution_count": 4,
   "id": "8bd9b225",
   "metadata": {},
   "outputs": [
    {
     "name": "stdout",
     "output_type": "stream",
     "text": [
      "前酒:啤酒\n",
      "主餐:菲力牛排\n",
      "甜點:蛋糕\n"
     ]
    }
   ],
   "source": [
    "menu(\"啤酒\",\"菲力牛排\",\"蛋糕\")"
   ]
  }
 ],
 "metadata": {
  "kernelspec": {
   "display_name": "0524",
   "language": "python",
   "name": "python3"
  },
  "language_info": {
   "codemirror_mode": {
    "name": "ipython",
    "version": 3
   },
   "file_extension": ".py",
   "mimetype": "text/x-python",
   "name": "python",
   "nbconvert_exporter": "python",
   "pygments_lexer": "ipython3",
   "version": "3.10.16"
  }
 },
 "nbformat": 4,
 "nbformat_minor": 5
}
