{
 "cells": [
  {
   "cell_type": "markdown",
   "id": "82bd4f4c",
   "metadata": {},
   "source": [
    "如何呼叫fouction"
   ]
  },
  {
   "cell_type": "code",
   "execution_count": 2,
   "id": "2f21c30c",
   "metadata": {},
   "outputs": [],
   "source": [
    "def menu(wine:str,entree:str,dessert:str)->None:\n",
    "    print(f\"前酒:{wine}\")\n",
    "    print(f\"主餐:{entree}\")\n",
    "    print(f\"甜點:{dessert}\")"
   ]
  },
  {
   "cell_type": "markdown",
   "id": "b19b53f4",
   "metadata": {},
   "source": [
    "###引述值的呼叫，要依照參數的順序"
   ]
  },
  {
   "cell_type": "code",
   "execution_count": 4,
   "id": "8bd9b225",
   "metadata": {},
   "outputs": [
    {
     "name": "stdout",
     "output_type": "stream",
     "text": [
      "前酒:啤酒\n",
      "主餐:菲力牛排\n",
      "甜點:蛋糕\n"
     ]
    }
   ],
   "source": [
    "menu(\"啤酒\",\"菲力牛排\",\"蛋糕\")"
   ]
  },
  {
   "cell_type": "markdown",
   "id": "f53ad2b3",
   "metadata": {},
   "source": [
    "###引述名稱的呼叫，可以不依照順序"
   ]
  },
  {
   "cell_type": "code",
   "execution_count": 7,
   "id": "89d5a510",
   "metadata": {},
   "outputs": [
    {
     "name": "stdout",
     "output_type": "stream",
     "text": [
      "前酒:啤酒\n",
      "主餐:菲力牛排\n",
      "甜點:蛋糕\n"
     ]
    }
   ],
   "source": [
    "menu(dessert=\"蛋糕\",wine=\"啤酒\",entree=\"菲力牛排\")"
   ]
  },
  {
   "cell_type": "markdown",
   "id": "405c69b6",
   "metadata": {},
   "source": [
    "###混合呼叫  \n",
    "-前面使用引數值的呼叫  \n",
    "-後面使用引數名稱的呼叫  \n",
    "-引數名稱後,全部都要用引數名稱 "
   ]
  },
  {
   "cell_type": "code",
   "execution_count": 8,
   "id": "49e0a409",
   "metadata": {},
   "outputs": [
    {
     "name": "stdout",
     "output_type": "stream",
     "text": [
      "前酒:啤酒\n",
      "主餐:菲力牛排\n",
      "甜點:蛋糕\n"
     ]
    }
   ],
   "source": [
    "menu(\"啤酒\",dessert=\"蛋糕\",entree=\"菲力牛排\")"
   ]
  },
  {
   "cell_type": "markdown",
   "id": "bec4fa5e",
   "metadata": {},
   "source": [
    "###定義的function參數,可以有預設值 \n",
    "-預設值一定放在最後"
   ]
  },
  {
   "cell_type": "code",
   "execution_count": 12,
   "id": "285d65cd",
   "metadata": {},
   "outputs": [],
   "source": [
    "def menu(wine:str,entree:str,dessert:str='奶昔')->None:\n",
    "    print(f\"前酒:{wine}\")\n",
    "    print(f\"主餐:{entree}\")\n",
    "    print(f\"甜點:{dessert}\")"
   ]
  },
  {
   "cell_type": "markdown",
   "id": "553456de",
   "metadata": {},
   "source": [
    "###呼叫時,有預設值的參數,可以省略引數值"
   ]
  },
  {
   "cell_type": "code",
   "execution_count": 13,
   "id": "b470301e",
   "metadata": {},
   "outputs": [
    {
     "name": "stdout",
     "output_type": "stream",
     "text": [
      "前酒:啤酒\n",
      "主餐:菲力牛排\n",
      "甜點:奶昔\n"
     ]
    }
   ],
   "source": [
    "menu(\"啤酒\",\"菲力牛排\")"
   ]
  },
  {
   "cell_type": "markdown",
   "id": "44948e4e",
   "metadata": {},
   "source": [
    "###預設值也可更改"
   ]
  },
  {
   "cell_type": "code",
   "execution_count": 14,
   "id": "35d7d4c4",
   "metadata": {},
   "outputs": [
    {
     "name": "stdout",
     "output_type": "stream",
     "text": [
      "前酒:白酒\n",
      "主餐:牛排\n",
      "甜點:蛋糕\n"
     ]
    }
   ],
   "source": [
    "menu('白酒','牛排',dessert=\"蛋糕\")"
   ]
  },
  {
   "cell_type": "code",
   "execution_count": 15,
   "id": "76c13727",
   "metadata": {},
   "outputs": [],
   "source": [
    "def menu(wine:str,entree:str='雞排',dessert:str='奶昔')->None:\n",
    "    print(f\"前酒:{wine}\")\n",
    "    print(f\"主餐:{entree}\")\n",
    "    print(f\"甜點:{dessert}\")"
   ]
  },
  {
   "cell_type": "code",
   "execution_count": 16,
   "id": "034e3b4c",
   "metadata": {},
   "outputs": [
    {
     "name": "stdout",
     "output_type": "stream",
     "text": [
      "前酒:白酒\n",
      "主餐:雞排\n",
      "甜點:奶昔\n"
     ]
    }
   ],
   "source": [
    "menu(\"白酒\")"
   ]
  },
  {
   "cell_type": "code",
   "execution_count": 17,
   "id": "0bc1c49f",
   "metadata": {},
   "outputs": [
    {
     "name": "stdout",
     "output_type": "stream",
     "text": [
      "前酒:白酒\n",
      "主餐:雞排\n",
      "甜點:蛋糕\n"
     ]
    }
   ],
   "source": [
    "menu(\"白酒\",dessert=\"蛋糕\")"
   ]
  },
  {
   "cell_type": "markdown",
   "id": "6d7d3564",
   "metadata": {},
   "source": [
    "*參數名稱 \n",
    "-沒有限制數量的引數值的呼叫"
   ]
  },
  {
   "cell_type": "code",
   "execution_count": 18,
   "id": "2c07ba1f",
   "metadata": {},
   "outputs": [],
   "source": [
    "def print_args(*args):\n",
    "    #tuple\n",
    "    print(args)"
   ]
  },
  {
   "cell_type": "code",
   "execution_count": 34,
   "id": "09232586",
   "metadata": {},
   "outputs": [
    {
     "name": "stdout",
     "output_type": "stream",
     "text": [
      "(1, 2, 3, 'a', 'b', 'c', True, False)\n"
     ]
    }
   ],
   "source": [
    "print_args(1,2,3,\"a\",\"b\",\"c\",True,False)"
   ]
  },
  {
   "cell_type": "markdown",
   "id": "3487cf4f",
   "metadata": {},
   "source": [
    "###**參數名稱 \n",
    "-沒有限定數量的引數名稱呼叫"
   ]
  },
  {
   "cell_type": "code",
   "execution_count": 25,
   "id": "a52214df",
   "metadata": {},
   "outputs": [],
   "source": [
    "def print_kwargs(**kwargs):\n",
    "    #dictionary詞典物件\n",
    "    print(kwargs)"
   ]
  },
  {
   "cell_type": "code",
   "execution_count": 26,
   "id": "23aa462c",
   "metadata": {},
   "outputs": [
    {
     "name": "stdout",
     "output_type": "stream",
     "text": [
      "{'one': 1, 'two': 2, 'three': 3}\n"
     ]
    }
   ],
   "source": [
    "print_kwargs(one=1,two=2,three=3)"
   ]
  },
  {
   "cell_type": "code",
   "execution_count": 28,
   "id": "73109aa1",
   "metadata": {},
   "outputs": [],
   "source": [
    "def print_all(*args, **kwargs):\n",
    "    print(args)\n",
    "    print(kwargs)"
   ]
  },
  {
   "cell_type": "code",
   "execution_count": 35,
   "id": "c2bdd5e0",
   "metadata": {},
   "outputs": [
    {
     "name": "stdout",
     "output_type": "stream",
     "text": [
      "(1, 2, 3, 'a', 'b', 'c', True, False)\n",
      "{'one': 1, 'two': 2, 'three': 3}\n"
     ]
    }
   ],
   "source": [
    "print_all(1,2,3,\"a\",\"b\",\"c\",True,False,one=1,two=2,three=3)"
   ]
  }
 ],
 "metadata": {
  "kernelspec": {
   "display_name": "0524",
   "language": "python",
   "name": "python3"
  },
  "language_info": {
   "codemirror_mode": {
    "name": "ipython",
    "version": 3
   },
   "file_extension": ".py",
   "mimetype": "text/x-python",
   "name": "python",
   "nbconvert_exporter": "python",
   "pygments_lexer": "ipython3",
   "version": "3.10.16"
  }
 },
 "nbformat": 4,
 "nbformat_minor": 5
}
