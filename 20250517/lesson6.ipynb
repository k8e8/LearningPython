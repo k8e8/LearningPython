{
 "cells": [
  {
   "cell_type": "markdown",
   "id": "da37663e",
   "metadata": {},
   "source": [
    "#結構化專案程式"
   ]
  },
  {
   "cell_type": "code",
   "execution_count": 2,
   "id": "4c38f401",
   "metadata": {},
   "outputs": [
    {
     "name": "stdout",
     "output_type": "stream",
     "text": [
      "hellow, function\n"
     ]
    }
   ],
   "source": [
    "print(\"hellow, function\")"
   ]
  },
  {
   "cell_type": "code",
   "execution_count": 3,
   "id": "4ab39c9f",
   "metadata": {},
   "outputs": [
    {
     "name": "stdout",
     "output_type": "stream",
     "text": [
      "再測試\n"
     ]
    }
   ],
   "source": [
    "print(\"再測試\")"
   ]
  }
 ],
 "metadata": {
  "kernelspec": {
   "display_name": "0517",
   "language": "python",
   "name": "python3"
  },
  "language_info": {
   "codemirror_mode": {
    "name": "ipython",
    "version": 3
   },
   "file_extension": ".py",
   "mimetype": "text/x-python",
   "name": "python",
   "nbconvert_exporter": "python",
   "pygments_lexer": "ipython3",
   "version": "3.10.16"
  }
 },
 "nbformat": 4,
 "nbformat_minor": 5
}
